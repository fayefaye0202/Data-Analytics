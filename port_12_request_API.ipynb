{
 "cells": [
  {
   "cell_type": "code",
   "execution_count": 1,
   "metadata": {},
   "outputs": [],
   "source": [
    "# http method web API design"
   ]
  },
  {
   "cell_type": "code",
   "execution_count": 2,
   "metadata": {},
   "outputs": [],
   "source": [
    "import requests\n",
    "import json"
   ]
  },
  {
   "cell_type": "code",
   "execution_count": 8,
   "metadata": {},
   "outputs": [],
   "source": [
    "# api end point URI to access data \n",
    "r = requests.get('https://api.github.com/events')\n",
    "r = requests.post('https://httpbin.org/post', data = {'name':'John'})\n",
    "r = requests.put('https://httpbin.org/put', data = {'name':'Joe'})\n",
    "r = requests.delete('https://httpbin.org/delete')\n",
    "r = requests.head('https://httpbin.org/get')\n",
    "r = requests.options('https://httpbin.org/get')"
   ]
  },
  {
   "cell_type": "code",
   "execution_count": 9,
   "metadata": {},
   "outputs": [
    {
     "name": "stdout",
     "output_type": "stream",
     "text": [
      "https://httpbin.org/get?key1=value1&key2=value2\n"
     ]
    }
   ],
   "source": [
    "# get requests\n",
    "payload = {'key1': 'value1', 'key2': 'value2'}\n",
    "r = requests.get('https://httpbin.org/get', params=payload)\n",
    "print(r.url)"
   ]
  },
  {
   "cell_type": "code",
   "execution_count": 10,
   "metadata": {},
   "outputs": [
    {
     "name": "stdout",
     "output_type": "stream",
     "text": [
      "URL:  https://httpbin.org/get?key1=value1&key2=value2&key2=value3\n",
      "ENCODING:  None\n",
      "STATUS_CODE:  200\n",
      "HEADERS:  {'Date': 'Sun, 07 Feb 2021 04:16:29 GMT', 'Content-Type': 'application/json', 'Content-Length': '419', 'Connection': 'keep-alive', 'Server': 'gunicorn/19.9.0', 'Access-Control-Allow-Origin': '*', 'Access-Control-Allow-Credentials': 'true'}\n",
      "TEXT:  {\n",
      "  \"args\": {\n",
      "    \"key1\": \"value1\", \n",
      "    \"key2\": [\n",
      "      \"value2\", \n",
      "      \"value3\"\n",
      "    ]\n",
      "  }, \n",
      "  \"headers\": {\n",
      "    \"Accept\": \"*/*\", \n",
      "    \"Accept-Encoding\": \"gzip, deflate\", \n",
      "    \"Host\": \"httpbin.org\", \n",
      "    \"User-Agent\": \"python-requests/2.25.0\", \n",
      "    \"X-Amzn-Trace-Id\": \"Root=1-601f699d-0b33e5185f256ba47c80212b\"\n",
      "  }, \n",
      "  \"origin\": \"42.3.18.244\", \n",
      "  \"url\": \"https://httpbin.org/get?key1=value1&key2=value2&key2=value3\"\n",
      "}\n",
      "\n",
      "CONTENT:  b'{\\n  \"args\": {\\n    \"key1\": \"value1\", \\n    \"key2\": [\\n      \"value2\", \\n      \"value3\"\\n    ]\\n  }, \\n  \"headers\": {\\n    \"Accept\": \"*/*\", \\n    \"Accept-Encoding\": \"gzip, deflate\", \\n    \"Host\": \"httpbin.org\", \\n    \"User-Agent\": \"python-requests/2.25.0\", \\n    \"X-Amzn-Trace-Id\": \"Root=1-601f699d-0b33e5185f256ba47c80212b\"\\n  }, \\n  \"origin\": \"42.3.18.244\", \\n  \"url\": \"https://httpbin.org/get?key1=value1&key2=value2&key2=value3\"\\n}\\n'\n",
      "JSON:  <bound method Response.json of <Response [200]>>\n"
     ]
    }
   ],
   "source": [
    "# get requests\n",
    "payload = {'key1': 'value1', 'key2': ['value2', 'value3']}\n",
    "r = requests.get('https://httpbin.org/get', params=payload)\n",
    "\n",
    "print('URL: ', r.url)\n",
    "print('ENCODING: ', r.encoding)\n",
    "print('STATUS_CODE: ', r.status_code)\n",
    "print('HEADERS: ', r.headers)\n",
    "print('TEXT: ', r.text)\n",
    "print('CONTENT: ', r.content)\n",
    "print('JSON: ', r.json)"
   ]
  },
  {
   "cell_type": "code",
   "execution_count": 6,
   "metadata": {},
   "outputs": [
    {
     "name": "stdout",
     "output_type": "stream",
     "text": [
      "{\n",
      "  \"args\": {}, \n",
      "  \"data\": \"\", \n",
      "  \"files\": {}, \n",
      "  \"form\": {\n",
      "    \"key1\": \"value1\", \n",
      "    \"key2\": \"value2\"\n",
      "  }, \n",
      "  \"headers\": {\n",
      "    \"Accept\": \"*/*\", \n",
      "    \"Accept-Encoding\": \"gzip, deflate\", \n",
      "    \"Content-Length\": \"23\", \n",
      "    \"Content-Type\": \"application/x-www-form-urlencoded\", \n",
      "    \"Host\": \"httpbin.org\", \n",
      "    \"User-Agent\": \"python-requests/2.25.0\", \n",
      "    \"X-Amzn-Trace-Id\": \"Root=1-601ee06e-0148dbdb6ad4c83b06f6edad\"\n",
      "  }, \n",
      "  \"json\": null, \n",
      "  \"origin\": \"42.3.18.244\", \n",
      "  \"url\": \"https://httpbin.org/post\"\n",
      "}\n",
      "\n"
     ]
    }
   ],
   "source": [
    "#POST request\n",
    "r = requests.post('https://httpbin.org/post', data = {'name':'Joe'})\n",
    "# using payload\n",
    "payload = {'key1': 'value1', 'key2': 'value2'}\n",
    "r = requests.post(\"https://httpbin.org/post\", data=payload)\n",
    "print(r.text)"
   ]
  },
  {
   "cell_type": "code",
   "execution_count": 11,
   "metadata": {},
   "outputs": [
    {
     "name": "stdout",
     "output_type": "stream",
     "text": [
      "{\"rates\":{\"CAD\":1.5344,\"HKD\":9.29,\"ISK\":154.9,\"PHP\":57.641,\"DKK\":7.4362,\"HUF\":356.58,\"CZK\":25.806,\"AUD\":1.5761,\"RON\":4.8747,\"SEK\":10.1228,\"IDR\":16820.24,\"INR\":87.367,\"BRL\":6.5248,\"RUB\":89.6325,\"HRK\":7.5613,\"JPY\":126.72,\"THB\":36.069,\"CHF\":1.0825,\"SGD\":1.6033,\"PLN\":4.5023,\"BGN\":1.9558,\"TRY\":8.4753,\"CNY\":7.7535,\"NOK\":10.3068,\"NZD\":1.6776,\"ZAR\":17.9407,\"USD\":1.1983,\"MXN\":24.349,\"ILS\":3.9456,\"GBP\":0.87538,\"KRW\":1345.45,\"MYR\":4.8777},\"base\":\"EUR\",\"date\":\"2021-02-05\"}\n"
     ]
    }
   ],
   "source": [
    "url = 'https://api.exchangeratesapi.io/latest'\n",
    "r = requests.get(url)\n",
    "print(r.text)"
   ]
  },
  {
   "cell_type": "code",
   "execution_count": 16,
   "metadata": {},
   "outputs": [
    {
     "name": "stdout",
     "output_type": "stream",
     "text": [
      "<class 'str'>\n"
     ]
    }
   ],
   "source": [
    "url = 'https://api.exchangeratesapi.io/2018-01-15'\n",
    "r = requests.get(url, params={'base':'USD'})\n",
    "print(r.text)"
   ]
  },
  {
   "cell_type": "code",
   "execution_count": 9,
   "metadata": {},
   "outputs": [
    {
     "name": "stdout",
     "output_type": "stream",
     "text": [
      "{'CAD': 1.2432190274, 'HKD': 7.823572534, 'USD': 1.0, 'PHP': 50.2997474953, 'DKK': 6.0679319052, 'HUF': 251.6086991936, 'CZK': 20.7957970188, 'GBP': 0.7252830496, 'RON': 3.7694876599, 'SEK': 8.0096929217, 'IDR': 13307.03754989, 'INR': 63.5175531482, 'BRL': 3.1959762157, 'RUB': 56.4333306182, 'HRK': 6.0552252179, 'JPY': 110.621487334, 'THB': 31.9247373137, 'CHF': 0.9610654069, 'EUR': 0.8145312373, 'MYR': 3.9560153132, 'BGN': 1.5930601939, 'TRY': 3.7828459721, 'CNY': 6.4380548994, 'NOK': 7.8771686894, 'NZD': 1.3706931661, 'ZAR': 12.302191089, 'MXN': 18.8315549401, 'SGD': 1.3214140262, 'AUD': 1.2571475116, 'ILS': 3.399609025, 'KRW': 1063.5660177568, 'PLN': 3.3954549157}\n",
      "0.7252830496\n",
      "200USD =  145.05660992 GBP\n"
     ]
    }
   ],
   "source": [
    "# decode json (from string to dict)\n",
    "rates_json = json.loads(r.text)['rates']\n",
    "print(rates_json)\n",
    "print(rates_json['GBP'])\n",
    "gbp = float(rates_json['GBP'])\n",
    "print('200USD = ', str(gbp * 200), 'GBP')"
   ]
  },
  {
   "cell_type": "code",
   "execution_count": 25,
   "metadata": {},
   "outputs": [
    {
     "name": "stdout",
     "output_type": "stream",
     "text": [
      "<!DOCTYPE html><html lang=\"en\"><head>\n",
      "  <base href=\"/\">\n",
      "  <title>MintPlayer - Open-source music player</title>\n",
      "  <meta charset=\"UTF-8\">\n",
      "  <meta http-equiv=\"Content-Type\" content=\"text/html; charset=UTF-8\">\n",
      "  <meta http-equiv=\"Content-Language\" content=\"en\">\n",
      "  <meta http-equiv=\"X-UA-Compatible\" content=\"IE=edge\">\n",
      "  <meta http-equiv=\"Cache-control\" content=\"no-cache, no-store, must-revalidate\">\n",
      "  <meta http-equiv=\"Pragma\" content=\"no-cache\">\n",
      "  <meta http-equiv=\"Expires\" content=\"0\">\n",
      "  <meta name=\"viewport\" content=\"width=device-width, initial-scale=1\">\n",
      "  <meta name=\"keywords\" content=\"music,lyrics,database,api,open-source,open-data\">\n",
      "  <meta name=\"author\" content=\"Pieterjan De Clippel\">\n",
      "  <met\n"
     ]
    }
   ],
   "source": [
    "url = 'https://musicdemons.com/api/v1/artist'\n",
    "r = requests.get(url)\n",
    "print(r.text[:700])"
   ]
  },
  {
   "cell_type": "code",
   "execution_count": 21,
   "metadata": {},
   "outputs": [
    {
     "name": "stdout",
     "output_type": "stream",
     "text": [
      "<!DOCTYPE html><html lang=\"en\"><head>\n",
      "  <base href=\"/\">\n",
      "  <title>MintPlayer - Open-source music player</title>\n",
      "  <meta charset=\"UTF-8\">\n",
      "  <meta http-equiv=\"Content-Type\" content=\"text/html; charset=UTF-8\">\n",
      "  <meta http-equiv=\"Content-Language\" content=\"en\">\n",
      "  <meta http-equiv=\"X-UA-Compatible\" content=\"IE=edge\">\n",
      "  <meta http-equiv=\"Cache-control\" content=\"no-cache, no-store, must-revalidate\">\n",
      "  <meta http-equiv=\"Pragma\" content=\"no-cache\">\n",
      "  <meta http-equiv=\"Expires\" content=\"0\">\n",
      "  <meta name=\"viewport\" content=\"width=device-width, initial-scale=1\">\n",
      "  <meta name=\"keywords\" content=\"music,lyrics,database,api,open-source,open-data\">\n",
      "  <meta name=\"author\" content=\"Pieterjan De Clippel\">\n",
      "  <meta name=\"theme-color\" content=\"#3d3d3d\">\n",
      "  <meta name=\"apple-mobile-web-app-capable\" content=\"yes\">\n",
      "  <link rel=\"shortcut icon\" type=\"image/x-icon\" href=\"/favicon.ico\">\n",
      "  <link rel=\"icon\" type=\"image/png\" sizes=\"16x16\" href=\"/assets/logo/music_note_16.png\">\n",
      "  <link rel=\"icon\" type=\"image/png\" sizes=\"32x32\" href=\"/assets/logo/music_note_32.png\">\n",
      "  <link rel=\"icon\" type=\"image/png\" sizes=\"96x96\" href=\"/assets/logo/music_note_96.png\">\n",
      "  <link rel=\"icon\" type=\"image/png\" sizes=\"192x192\" href=\"/assets/logo/music_note_192.png\">\n",
      "  <link rel=\"search\" type=\"application/opensearchdescription+xml\" href=\"/opensearch.xml\" title=\"Search through MintPlayer\">\n",
      "  <link rel=\"apple-touch-icon\" sizes=\"57x57\" href=\"/assets/logo/music_note_57.png\">\n",
      "  <link rel=\"apple-touch-icon\" sizes=\"60x60\" href=\"/assets/logo/music_note_60.png\">\n",
      "  <link rel=\"apple-touch-icon\" sizes=\"72x72\" href=\"/assets/logo/music_note_72.png\">\n",
      "  <link rel=\"apple-touch-icon\" sizes=\"76x76\" href=\"/assets/logo/music_note_76.png\">\n",
      "  <link rel=\"apple-touch-icon\" sizes=\"114x114\" href=\"/assets/logo/music_note_114.png\">\n",
      "  <link rel=\"apple-touch-icon\" sizes=\"120x120\" href=\"/assets/logo/music_note_120.png\">\n",
      "  <link rel=\"apple-touch-icon\" sizes=\"144x144\" href=\"/assets/logo/music_note_144.png\">\n",
      "  <link rel=\"apple-touch-icon\" sizes=\"152x152\" href=\"/assets/logo/music_note_152.png\">\n",
      "  <link rel=\"apple-touch-icon\" sizes=\"180x180\" href=\"/assets/logo/music_note_180.png\">\n",
      "  <link rel=\"apple-touch-startup-image\" href=\"/assets/splash/apple_splash_2048.png\" sizes=\"2048x2732\">\n",
      "  <link rel=\"apple-touch-startup-image\" href=\"/assets/splash/apple_splash_1668.png\" sizes=\"1668x2224\">\n",
      "  <link rel=\"apple-touch-startup-image\" href=\"/assets/splash/apple_splash_1536.png\" sizes=\"1536x2048\">\n",
      "  <link rel=\"apple-touch-startup-image\" href=\"/assets/splash/apple_splash_1125.png\" sizes=\"1125x2436\">\n",
      "  <link rel=\"apple-touch-startup-image\" href=\"/assets/splash/apple_splash_1242.png\" sizes=\"1242x2208\">\n",
      "  <link rel=\"apple-touch-startup-image\" href=\"/assets/splash/apple_splash_750.png\" sizes=\"750x1334\">\n",
      "  <link rel=\"apple-touch-startup-image\" href=\"/assets/splash/apple_splash_640.png\" sizes=\"640x1136\">\n",
      "  <link rel=\"manifest\" href=\"manifest.json\">\n",
      "  <link rel=\"dns-prefetch\" href=\"https://i.ytimg.com\">\n",
      "  <link rel=\"dns-prefetch\" href=\"https://s.ytimg.com\">\n",
      "  <link rel=\"dns-prefetch\" href=\"https://www.youtube.com\">\n",
      "  <link rel=\"dns-prefetch\" href=\"https://www.google.com\">\n",
      "  <link rel=\"preconnect\" href=\"https://i.ytimg.com\">\n",
      "  <link rel=\"preconnect\" href=\"https://s.ytimg.com\">\n",
      "  <link rel=\"preconnect\" href=\"https://www.youtube.com\">\n",
      "  <link rel=\"preconnect\" href=\"https://www.google.com\">\n",
      "  <link rel=\"preconnect\" href=\"https://www.google-analytics.com\">\n",
      "  <meta name=\"msapplication-TileColor\" content=\"#ffffff\">\n",
      "  <meta name=\"msapplication-TileImage\" content=\"/assets/logo/music_note_144.png\">\n",
      "  <noscript>\n",
      "    <link rel=\"stylesheet\" href=\"/css/no-script.css\" />\n",
      "  </noscript>\n",
      "  <!-- Global site tag (gtag.js) - Google Analytics -->\n",
      "  <script async=\"\" src=\"https://www.googletagmanager.com/gtag/js?id=UA-89371074-7\"></script>\n",
      "  <script>\n",
      "    window.dataLayer = window.dataLayer || [];\n",
      "    function gtag() { dataLayer.push(arguments); }\n",
      "    gtag('js', new Date());\n",
      "    gtag('config', 'UA-89371074-7');\n",
      "  </script>\n",
      "  <!-- End global site tag -->\n",
      "  <!-- Google Tag Manager -->\n",
      "  <script>\n",
      "    (function (w, d, s, l, i) {\n",
      "      w[l] = w[l] || []; w[l].push({\n",
      "        'gtm.start':\n",
      "          new Date().getTime(), event: 'gtm.js'\n",
      "      }); var f = d.getElementsByTagName(s)[0],\n",
      "        j = d.createElement(s), dl = l != 'dataLayer' ? '&l=' + l : ''; j.async = true; j.src =\n",
      "          'https://www.googletagmanager.com/gtm.js?id=' + i + dl; f.parentNode.insertBefore(j, f);\n",
      "    })(window, document, 'script', 'dataLayer', 'GTM-KQVL2Q3');\n",
      "  </script>\n",
      "  <!-- End Google Tag Manager -->\n",
      "<link rel=\"stylesheet\" href=\"styles.b392a47f85273ec8ba37.css\"><style ng-transition=\"serverApp\">h1[_ngcontent-sc76]{text-align:center}.app-header[_ngcontent-sc76]{width:100%;position:fixed;z-index:100;height:55px;border-bottom:1px solid #ccc;background:#fff}.app-header[_ngcontent-sc76]   .logo[_ngcontent-sc76]{font-size:2.5rem;line-height:1.15}.app-body[_ngcontent-sc76]{padding-top:55px;display:block}app-navbar-toggler[_ngcontent-sc76]{position:absolute;left:0}app-navbar-toggler[_ngcontent-sc76], playlist-toggler[_ngcontent-sc76]{z-index:4}playlist-toggler[_ngcontent-sc76]{right:0;top:0}.main-footer[_ngcontent-sc76]{position:fixed;z-index:100;border-top:1px solid #ccc;padding:0;line-height:45px;transition:left .3s,width .3s;background:#fff;bottom:0;left:220px;right:0}.main-content[_ngcontent-sc76]{background:#fff;margin-bottom:calc(1.5rem + 45px)!important}.main-container[_ngcontent-sc76]{max-width:760px}.main-container.width-100[_ngcontent-sc76]{max-width:none}app-sidebar[_ngcontent-sc76]{position:fixed;height:calc(100% - 55px);transition:all .3s;z-index:200}@media (max-width:767px){.sidebar-auto[_ngcontent-sc76]   app-sidebar[_ngcontent-sc76]{width:100%;margin-left:-100%}.sidebar-auto[_ngcontent-sc76]   .main-body[_ngcontent-sc76]{margin-left:0}.sidebar-auto[_ngcontent-sc76]   .main-footer[_ngcontent-sc76]{left:0}.sidebar-show[_ngcontent-sc76]   app-sidebar[_ngcontent-sc76]{width:100%;margin-left:0}.sidebar-show[_ngcontent-sc76]   .main-body[_ngcontent-sc76]{margin-left:0}.sidebar-show[_ngcontent-sc76]   .main-footer[_ngcontent-sc76]{left:0}.sidebar-hide[_ngcontent-sc76]   app-sidebar[_ngcontent-sc76]{width:100%;margin-left:-100%}.sidebar-hide[_ngcontent-sc76]   .main-body[_ngcontent-sc76]{margin-left:0}.sidebar-hide[_ngcontent-sc76]   .main-footer[_ngcontent-sc76]{left:0}}@media (min-width:768px){.sidebar-auto[_ngcontent-sc76]   app-sidebar[_ngcontent-sc76]{width:220px;margin-left:0}.sidebar-auto[_ngcontent-sc76]   .main-body[_ngcontent-sc76]{margin-left:220px}.sidebar-auto[_ngcontent-sc76]   .main-footer[_ngcontent-sc76]{left:220px}.sidebar-show[_ngcontent-sc76]   app-sidebar[_ngcontent-sc76]{width:220px;margin-left:0}.sidebar-show[_ngcontent-sc76]   .main-body[_ngcontent-sc76]{margin-left:220px}.sidebar-show[_ngcontent-sc76]   .main-footer[_ngcontent-sc76]{left:220px}.sidebar-hide[_ngcontent-sc76]   app-sidebar[_ngcontent-sc76]{width:220px;margin-left:-220px}.sidebar-hide[_ngcontent-sc76]   .main-body[_ngcontent-sc76]{margin-left:0}.sidebar-hide[_ngcontent-sc76]   .main-footer[_ngcontent-sc76]{left:0}}.main-body[_ngcontent-sc76]{transition:all .3s}.breadcrumb[_ngcontent-sc76]{background:#fff;border-bottom:1px solid #ccc}.youtube-card[_ngcontent-sc76]{right:15px}.dailymotion-card[_ngcontent-sc76], .youtube-card[_ngcontent-sc76]{position:fixed;z-index:10;bottom:60px}.dailymotion-card[_ngcontent-sc76]{right:215px}playlist-sidebar[_ngcontent-sc76]{z-index:5}</style><style ng-transition=\"serverApp\">.navbar-toggler[_ngcontent-sc65]{width:55px;padding:.75rem}.navbar-toggler[_ngcontent-sc65] > div[_ngcontent-sc65]{width:25px;height:2px;background:#bbb;margin:6px 0;transition:.4s}.navbar-toggler.open[_ngcontent-sc65] > div[_ngcontent-sc65]:first-of-type{transform:rotate(-45deg) translate(-7px,5px)}.navbar-toggler.open[_ngcontent-sc65] > div[_ngcontent-sc65]:nth-of-type(2){opacity:0}.navbar-toggler.open[_ngcontent-sc65] > div[_ngcontent-sc65]:nth-of-type(3){transform:rotate(45deg) translate(-6px,-4px)}@media (min-width:768px){.navbar-toggler.auto[_ngcontent-sc65] > div[_ngcontent-sc65]:first-of-type{transform:rotate(-45deg) translate(-7px,5px)}.navbar-toggler.auto[_ngcontent-sc65] > div[_ngcontent-sc65]:nth-of-type(2){opacity:0}.navbar-toggler.auto[_ngcontent-sc65] > div[_ngcontent-sc65]:nth-of-type(3){transform:rotate(45deg) translate(-6px,-4px)}}</style><style ng-transition=\"serverApp\">.playlist-toggler[_ngcontent-sc66]{width:55px;padding:.75rem;cursor:pointer}.playlist-toggler[_ngcontent-sc66] > div[_ngcontent-sc66]{width:25px;height:2px;background:#bbb;margin:6px 0;transition:.4s}.playlist-toggler.open[_ngcontent-sc66] > div[_ngcontent-sc66]:first-of-type{transform:rotate(-45deg) translate(-7px,5px)}.playlist-toggler.open[_ngcontent-sc66] > div[_ngcontent-sc66]:nth-of-type(2){transform:rotate(90deg) translateY(14px);opacity:0}.playlist-toggler.open[_ngcontent-sc66] > div[_ngcontent-sc66]:nth-of-type(3){transform:rotate(45deg) translate(-6px,-4px)}.playlist-toggler.closed[_ngcontent-sc66] > div[_ngcontent-sc66]:first-of-type{transform:rotate(-30deg) translate(-10px,11px)}.playlist-toggler.closed[_ngcontent-sc66] > div[_ngcontent-sc66]:nth-of-type(2){transform:rotate(90deg) translateY(14px);opacity:1}.playlist-toggler.closed[_ngcontent-sc66] > div[_ngcontent-sc66]:nth-of-type(3){transform:rotate(30deg) translate(-10px,-11px)}</style><style ng-transition=\"serverApp\">[_nghost-sc72]{background:#333}.sidebar[_ngcontent-sc72]{height:100%}.sidebar[_ngcontent-sc72] > nav[_ngcontent-sc72]{height:100%;overflow-y:auto}.sidebar[_ngcontent-sc72] > nav[_ngcontent-sc72]   ul[_ngcontent-sc72]{list-style-type:none;padding-left:0;margin:0}.sidebar[_ngcontent-sc72] > nav[_ngcontent-sc72]   ul[_ngcontent-sc72]   li[_ngcontent-sc72]   a[_ngcontent-sc72], .sidebar[_ngcontent-sc72] > nav[_ngcontent-sc72]   ul[_ngcontent-sc72]   li[_ngcontent-sc72]   span[_ngcontent-sc72]{display:block;padding:10px;color:#fff;cursor:pointer;transition:background .3s}.sidebar[_ngcontent-sc72] > nav[_ngcontent-sc72]   ul[_ngcontent-sc72]   li[_ngcontent-sc72]   a[_ngcontent-sc72]:hover, .sidebar[_ngcontent-sc72] > nav[_ngcontent-sc72]   ul[_ngcontent-sc72]   li[_ngcontent-sc72]   span[_ngcontent-sc72]:hover{background:#20a8d8;text-decoration:none}.sidebar[_ngcontent-sc72] > nav[_ngcontent-sc72]   ul[_ngcontent-sc72]   li[_ngcontent-sc72]   span[_ngcontent-sc72]:after{border-left:10px solid #fff;border-top:10px solid transparent;border-bottom:10px solid transparent;display:inline-block;float:right;content:\"\";margin-top:4px;margin-right:7px;transition:transform .3s}.sidebar[_ngcontent-sc72] > nav[_ngcontent-sc72]   ul[_ngcontent-sc72]   li[_ngcontent-sc72]   span.open[_ngcontent-sc72]:after{transform:rotate(90deg)}.sidebar[_ngcontent-sc72] > nav[_ngcontent-sc72]   ul[_ngcontent-sc72]   ul[_ngcontent-sc72]{background:#555;overflow:hidden}.sidebar[_ngcontent-sc72] > nav[_ngcontent-sc72]   ul[_ngcontent-sc72]   ul[_ngcontent-sc72]   ul[_ngcontent-sc72]{background:#777}.sidebar[_ngcontent-sc72] > nav[_ngcontent-sc72]::-webkit-scrollbar{position:absolute;width:10px;margin-left:-10px;-webkit-appearance:none}.sidebar[_ngcontent-sc72] > nav[_ngcontent-sc72]::-webkit-scrollbar-thumb{height:50px;background-color:#11171a;background-clip:content-box;border-color:transparent;border-style:solid;border-width:1px 2px;border-radius:10px}.sidebar[_ngcontent-sc72] > nav[_ngcontent-sc72]::-webkit-scrollbar-thumb:hover{background-color:#444}.sidebar[_ngcontent-sc72] > nav[_ngcontent-sc72]::-webkit-scrollbar-track{background-color:#7e929a;border-right:1px solid #1c2429;border-left:1px solid #1c2429}</style><style ng-transition=\"serverApp\">[_nghost-sc74]{position:fixed;top:55px;width:350px;height:calc(100% - 99px);background:#fff;border:1px solid #ccc;margin-top:-1px;transition:right .3s}.open[_nghost-sc74]{right:0}.closed[_nghost-sc74]{right:-350px}.sidebar-right[_ngcontent-sc74]::-webkit-scrollbar{position:absolute;width:10px;margin-left:-10px;-webkit-appearance:none}.sidebar-right[_ngcontent-sc74]::-webkit-scrollbar-thumb{height:50px;background-color:#11171a;background-clip:content-box;border-color:transparent;border-style:solid;border-width:1px 2px;border-radius:10px}.sidebar-right[_ngcontent-sc74]::-webkit-scrollbar-thumb:hover{background-color:#444}.sidebar-right[_ngcontent-sc74]::-webkit-scrollbar-track{background-color:#7e929a;border-right:1px solid #1c2429;border-left:1px solid #1c2429}.sidebar-right[_ngcontent-sc74]   .border-bottom[_ngcontent-sc74]{border-bottom:1px solid #ccc!important}.sidebar-right[_ngcontent-sc74]   ul[_ngcontent-sc74]{list-style-type:none;padding-left:0}.sidebar-right[_ngcontent-sc74]   ul[_ngcontent-sc74] > li[_ngcontent-sc74]{border-bottom:1px solid #ccc;transition:background .3s}.sidebar-right[_ngcontent-sc74]   ul[_ngcontent-sc74] > li[_ngcontent-sc74]:hover{background:#dcdcdc}.sidebar-right[_ngcontent-sc74]   ul[_ngcontent-sc74] > li[_ngcontent-sc74] > a[_ngcontent-sc74]{padding:10px;display:inline-block;width:calc(100% - 40px);float:none;text-decoration:none}.sidebar-right[_ngcontent-sc74]   ul[_ngcontent-sc74] > li[_ngcontent-sc74] > a[_ngcontent-sc74] > label[_ngcontent-sc74]{white-space:nowrap;max-width:calc(100% - 27px);overflow:hidden;text-overflow:ellipsis;margin-bottom:0}.btn-playlist-remove[_ngcontent-sc74]{background:none;display:inline-block}.equalizer[_ngcontent-sc74]{width:16px;height:16px;display:inline-block;background-image:url(/assets/now_playing.gif);background-repeat:no-repeat;background-size:contain;vertical-align:text-bottom;margin:3px 8px 3px 3px}</style><style ng-transition=\"serverApp\">.card-overlay[_ngcontent-sc59]{position:absolute;left:0;right:0;top:0;bottom:0;z-index:50}.card-body-no-padding[_ngcontent-sc59]{padding:0!important;margin:-1px}</style><style ng-transition=\"serverApp\">[_nghost-sc75]{display:block}</style><style ng-transition=\"serverApp\"></style><style ng-transition=\"serverApp\">[_nghost-sc68]{margin-bottom:-2px!important}</style><style ng-transition=\"serverApp\">.flag[_ngcontent-sc70]{width:30px;height:20px;display:block;background:url(/assets/flags/small.png)}.flag.nl[_ngcontent-sc70]{background-position-y:20px}.flag.fr[_ngcontent-sc70]{background-position-y:40px}</style><meta property=\"og:site_name\" content=\"MintPlayer\"><meta itemprop=\"name\" content=\"MintPlayer\"><meta name=\"description\" itemprop=\"description\" content=\"MintPlayer is an open-source project that lets you keep track of the music you like. Start building your playlist now.\"><meta itemprop=\"image\" content=\"https://mintplayer.com/assets/logo/music_note_72.png\"><meta itemprop=\"publisher\" name=\"creator\" content=\"MintPlayer LLC\"><meta itemprop=\"copyrightYear\" content=\"2021\"><meta itemprop=\"copyrightHolder\" content=\"MintPlayer LLC\"><meta itemprop=\"isFamilyFriendly\" content=\"true\"></head>\n",
      "<body>\n",
      "  <!-- Google Tag Manager (noscript) -->\n",
      "  <noscript>\n",
      "    <iframe src=\"https://www.googletagmanager.com/ns.html?id=GTM-KQVL2Q3\" height=\"0\" width=\"0\" style=\"display:none;visibility:hidden\"></iframe>\n",
      "  </noscript>\n",
      "  <!-- End Google Tag Manager (noscript) -->\n",
      "  <app-root _nghost-sc76=\"\" ng-version=\"9.1.4\"><body _ngcontent-sc76=\"\"><div _ngcontent-sc76=\"\" class=\"app-header text-center\"><app-navbar-toggler _ngcontent-sc76=\"\" class=\"d-inline-block\" _nghost-sc65=\"\"><div _ngcontent-sc65=\"\" id=\"navbar-toggler\" class=\"navbar-toggler float-left auto\"><div _ngcontent-sc65=\"\"></div><div _ngcontent-sc65=\"\"></div><div _ngcontent-sc65=\"\"></div></div></app-navbar-toggler><a _ngcontent-sc76=\"\" title=\"MintPlayer\" class=\"d-block no-underline\" href=\"/\"><span _ngcontent-sc76=\"\" class=\"text-dark font-weight-bold d-inline-block my-1 logo\">MintPlayer</span></a><playlist-toggler _ngcontent-sc76=\"\" class=\"position-absolute\" _nghost-sc66=\"\"><div _ngcontent-sc66=\"\" class=\"playlist-toggler float-left closed\"><div _ngcontent-sc66=\"\"></div><div _ngcontent-sc66=\"\"></div><div _ngcontent-sc66=\"\"></div></div></playlist-toggler></div><div _ngcontent-sc76=\"\" id=\"app-body\" class=\"app-body sidebar-auto\"><app-sidebar _ngcontent-sc76=\"\" _nghost-sc72=\"\" class=\"ng-tns-c72-0\"><div _ngcontent-sc72=\"\" class=\"sidebar ng-tns-c72-0\"><nav _ngcontent-sc72=\"\" class=\"d-flex flex-column ng-tns-c72-0\"><div _ngcontent-sc72=\"\" class=\"p-1 text-center ng-tns-c72-0\"><app-facebook-share _ngcontent-sc72=\"\" class=\"m-1 ng-tns-c72-0 d-inline-block align-middle\" _nghost-sc67=\"\" tabindex=\"0\"><div _ngcontent-sc67=\"\" class=\"d-inline-block align-bottom\"></div></app-facebook-share><app-twitter-share _ngcontent-sc72=\"\" class=\"m-1 ng-tns-c72-0 d-inline-block align-middle\" _nghost-sc68=\"\" tabindex=\"0\"><div _ngcontent-sc68=\"\" class=\"d-inline-block\"></div></app-twitter-share><app-linkedin-share _ngcontent-sc72=\"\" class=\"m-1 ng-tns-c72-0 d-inline-block align-top\" _nghost-sc69=\"\" tabindex=\"0\"><div _ngcontent-sc69=\"\" class=\"d-inline-block\"></div></app-linkedin-share></div><div _ngcontent-sc72=\"\" class=\"p-1 text-center ng-tns-c72-0\"><a _ngcontent-sc72=\"\" title=\"English\" class=\"mx-2 ng-tns-c72-0\" href=\"/api/v1/artist/21\"><app-flag _ngcontent-sc72=\"\" class=\"ng-tns-c72-0 d-inline-block\" _nghost-sc70=\"\"><span _ngcontent-sc70=\"\" class=\"flag en\"></span></app-flag></a><a _ngcontent-sc72=\"\" title=\"Nederlands\" class=\"mx-2 ng-tns-c72-0\" href=\"/api/v1/artist/21?lang=nl\"><app-flag _ngcontent-sc72=\"\" class=\"ng-tns-c72-0 d-inline-block\" _nghost-sc70=\"\"><span _ngcontent-sc70=\"\" class=\"flag nl\"></span></app-flag></a><a _ngcontent-sc72=\"\" title=\"Frans\" class=\"mx-2 ng-tns-c72-0\" href=\"/api/v1/artist/21?lang=fr\"><app-flag _ngcontent-sc72=\"\" class=\"ng-tns-c72-0 d-inline-block\" _nghost-sc70=\"\"><span _ngcontent-sc70=\"\" class=\"flag fr\"></span></app-flag></a></div><ul _ngcontent-sc72=\"\" class=\"ng-tns-c72-0\"><li _ngcontent-sc72=\"\" class=\"ng-tns-c72-0\"><a _ngcontent-sc72=\"\" class=\"ng-tns-c72-0\" title=\"Homepage\" href=\"/\"><i _ngcontent-sc72=\"\" class=\"fa fa-home ng-tns-c72-0\"></i> Home </a></li><li _ngcontent-sc72=\"\" class=\"ng-tns-c72-0\"><a _ngcontent-sc72=\"\" class=\"ng-tns-c72-0\" title=\"Search\" href=\"/search\"><i _ngcontent-sc72=\"\" class=\"fa fa-search ng-tns-c72-0\"></i> Search </a></li><li _ngcontent-sc72=\"\" class=\"ng-tns-c72-0\"><span _ngcontent-sc72=\"\" class=\"ng-tns-c72-0\" title=\"Artists\"><i _ngcontent-sc72=\"\" class=\"fa fa-user-circle ng-tns-c72-0\"></i> Artists </span><ul _ngcontent-sc72=\"\" class=\"ng-tns-c72-0 ng-trigger ng-trigger-slideUpDown\" style=\"height:0px;\"><li _ngcontent-sc72=\"\" class=\"ng-tns-c72-0\"><a _ngcontent-sc72=\"\" class=\"ng-tns-c72-0\" title=\"All artists\" href=\"/artist\"><i _ngcontent-sc72=\"\" class=\"fa fa-list ng-tns-c72-0\"></i> All artists </a></li><li _ngcontent-sc72=\"\" class=\"ng-tns-c72-0\"><a _ngcontent-sc72=\"\" class=\"ng-tns-c72-0\" title=\"Add artist\" href=\"/artist/create\"><i _ngcontent-sc72=\"\" class=\"fa fa-plus ng-tns-c72-0\"></i> Add artist </a></li><li _ngcontent-sc72=\"\" class=\"ng-tns-c72-0\"><a _ngcontent-sc72=\"\" class=\"ng-tns-c72-0\" title=\"Favorite artists\" href=\"/artist/favorite\"><i _ngcontent-sc72=\"\" class=\"fa fa-star ng-tns-c72-0\"></i> Favorite artists </a></li></ul></li><li _ngcontent-sc72=\"\" class=\"ng-tns-c72-0\"><span _ngcontent-sc72=\"\" class=\"ng-tns-c72-0\" title=\"People\"><i _ngcontent-sc72=\"\" class=\"fa fa-user-o ng-tns-c72-0\"></i> People </span><ul _ngcontent-sc72=\"\" class=\"ng-tns-c72-0 ng-trigger ng-trigger-slideUpDown\" style=\"height:0px;\"><li _ngcontent-sc72=\"\" class=\"ng-tns-c72-0\"><a _ngcontent-sc72=\"\" class=\"ng-tns-c72-0\" title=\"All people\" href=\"/person\"><i _ngcontent-sc72=\"\" class=\"fa fa-list ng-tns-c72-0\"></i> All people </a></li><li _ngcontent-sc72=\"\" class=\"ng-tns-c72-0\"><a _ngcontent-sc72=\"\" class=\"ng-tns-c72-0\" title=\"Add person\" href=\"/person/create\"><i _ngcontent-sc72=\"\" class=\"fa fa-plus ng-tns-c72-0\"></i> Add person </a></li><li _ngcontent-sc72=\"\" class=\"ng-tns-c72-0\"><a _ngcontent-sc72=\"\" class=\"ng-tns-c72-0\" title=\"Favorite people\" href=\"/person/favorite\"><i _ngcontent-sc72=\"\" class=\"fa fa-star ng-tns-c72-0\"></i> Favorite people </a></li></ul></li><li _ngcontent-sc72=\"\" class=\"ng-tns-c72-0\"><span _ngcontent-sc72=\"\" class=\"ng-tns-c72-0\" title=\"Songs\"><i _ngcontent-sc72=\"\" class=\"fa fa-music ng-tns-c72-0\"></i> Songs </span><ul _ngcontent-sc72=\"\" class=\"ng-tns-c72-0 ng-trigger ng-trigger-slideUpDown\" style=\"height:0px;\"><li _ngcontent-sc72=\"\" class=\"ng-tns-c72-0\"><a _ngcontent-sc72=\"\" class=\"ng-tns-c72-0\" title=\"All songs\" href=\"/song\"><i _ngcontent-sc72=\"\" class=\"fa fa-list ng-tns-c72-0\"></i> All songs </a></li><li _ngcontent-sc72=\"\" class=\"ng-tns-c72-0\"><a _ngcontent-sc72=\"\" class=\"ng-tns-c72-0\" title=\"Add song\" href=\"/song/create\"><i _ngcontent-sc72=\"\" class=\"fa fa-plus ng-tns-c72-0\"></i> Add song </a></li><li _ngcontent-sc72=\"\" class=\"ng-tns-c72-0\"><a _ngcontent-sc72=\"\" class=\"ng-tns-c72-0\" title=\"Favorite songs\" href=\"/song/favorite\"><i _ngcontent-sc72=\"\" class=\"fa fa-star ng-tns-c72-0\"></i> Favorite songs </a></li></ul></li><li _ngcontent-sc72=\"\" class=\"ng-tns-c72-0\"><span _ngcontent-sc72=\"\" class=\"ng-tns-c72-0\" title=\"Playlists\"><i _ngcontent-sc72=\"\" class=\"fa fa-play-circle ng-tns-c72-0\"></i> Playlists </span><ul _ngcontent-sc72=\"\" class=\"ng-tns-c72-0 ng-trigger ng-trigger-slideUpDown\" style=\"height:0px;\"><li _ngcontent-sc72=\"\" class=\"ng-tns-c72-0\"><a _ngcontent-sc72=\"\" class=\"ng-tns-c72-0\" title=\"All playlists\" href=\"/playlist\"><i _ngcontent-sc72=\"\" class=\"fa fa-list ng-tns-c72-0\"></i> All playlists </a></li><li _ngcontent-sc72=\"\" class=\"ng-tns-c72-0\"><a _ngcontent-sc72=\"\" class=\"ng-tns-c72-0\" title=\"Add playlist\" href=\"/playlist/create\"><i _ngcontent-sc72=\"\" class=\"fa fa-plus ng-tns-c72-0\"></i> Add playlist </a></li></ul></li><li _ngcontent-sc72=\"\" class=\"ng-tns-c72-0\"><span _ngcontent-sc72=\"\" class=\"ng-tns-c72-0\" title=\"Community\"><i _ngcontent-sc72=\"\" class=\"fa fa-users ng-tns-c72-0\"></i> Community </span><ul _ngcontent-sc72=\"\" class=\"ng-tns-c72-0 ng-trigger ng-trigger-slideUpDown\" style=\"height:0px;\"><li _ngcontent-sc72=\"\" class=\"ng-tns-c72-0\"><a _ngcontent-sc72=\"\" class=\"ng-tns-c72-0\" title=\"MintPlayer blog\" href=\"/community/blog\"><i _ngcontent-sc72=\"\" class=\"fa fa-rss ng-tns-c72-0\"></i> Blog </a></li><li _ngcontent-sc72=\"\" class=\"ng-tns-c72-0\"><a _ngcontent-sc72=\"\" href=\"https://github.com/MintPlayer/MintPlayer\" rel=\"noopener noreferrer\" target=\"_blank\" class=\"ng-tns-c72-0\" title=\"Follow us on GitHub\"><i _ngcontent-sc72=\"\" class=\"fa fa-github ng-tns-c72-0\"></i> GitHub </a></li></ul></li><li _ngcontent-sc72=\"\" class=\"ng-tns-c72-0\"><span _ngcontent-sc72=\"\" title=\"Management\" class=\"ng-tns-c72-0\"><i _ngcontent-sc72=\"\" class=\"fa fa-cogs ng-tns-c72-0\"></i> Management </span><ul _ngcontent-sc72=\"\" class=\"ng-tns-c72-0 ng-trigger ng-trigger-slideUpDown\" style=\"height:0px;\"><li _ngcontent-sc72=\"\" class=\"ng-tns-c72-0\"><span _ngcontent-sc72=\"\" title=\"'management.media.manage_media' | translate\" class=\"ng-tns-c72-0\"><i _ngcontent-sc72=\"\" class=\"fa fa-medium ng-tns-c72-0\"></i> Manage media </span><ul _ngcontent-sc72=\"\" class=\"ng-tns-c72-0 ng-trigger ng-trigger-slideUpDown\" style=\"height:0px;\"><li _ngcontent-sc72=\"\" class=\"ng-tns-c72-0\"><a _ngcontent-sc72=\"\" class=\"ng-tns-c72-0\" title=\"All media\" href=\"/mediumtype\"><i _ngcontent-sc72=\"\" class=\"fa fa-list ng-tns-c72-0\"></i> All media </a></li><li _ngcontent-sc72=\"\" class=\"ng-tns-c72-0\"><a _ngcontent-sc72=\"\" class=\"ng-tns-c72-0\" title=\"Add medium\" href=\"/mediumtype/create\"><i _ngcontent-sc72=\"\" class=\"fa fa-plus ng-tns-c72-0\"></i> Add medium </a></li></ul></li><li _ngcontent-sc72=\"\" class=\"ng-tns-c72-0\"><span _ngcontent-sc72=\"\" class=\"ng-tns-c72-0\" title=\"Manage tags/categories\"><i _ngcontent-sc72=\"\" class=\"fa fa-tag ng-tns-c72-0\"></i> Manage tags </span><ul _ngcontent-sc72=\"\" class=\"ng-tns-c72-0 ng-trigger ng-trigger-slideUpDown\" style=\"height:0px;\"><li _ngcontent-sc72=\"\" class=\"ng-tns-c72-0\"><a _ngcontent-sc72=\"\" class=\"ng-tns-c72-0\" title=\"Manage categories\" href=\"/tag/category\"><i _ngcontent-sc72=\"\" class=\"fa fa-list ng-tns-c72-0\"></i> All categories </a></li><li _ngcontent-sc72=\"\" class=\"ng-tns-c72-0\"><a _ngcontent-sc72=\"\" class=\"ng-tns-c72-0\" title=\"Add category\" href=\"/tag/category/create\"><i _ngcontent-sc72=\"\" class=\"fa fa-plus ng-tns-c72-0\"></i> Add category </a></li></ul></li></ul></li><li _ngcontent-sc72=\"\" class=\"ng-tns-c72-0\"><span _ngcontent-sc72=\"\" class=\"ng-tns-c72-0\" title=\"Account\"><i _ngcontent-sc72=\"\" class=\"fa fa-user ng-tns-c72-0\"></i> Account </span><ul _ngcontent-sc72=\"\" class=\"ng-tns-c72-0 ng-trigger ng-trigger-slideUpDown\" style=\"height:0px;\"><li _ngcontent-sc72=\"\" class=\"ng-tns-c72-0 ng-star-inserted\" style=\"\"><a _ngcontent-sc72=\"\" title=\"'account.login' | translate\" class=\"ng-tns-c72-0\" href=\"/account/login\"><i _ngcontent-sc72=\"\" class=\"fa fa-sign-in ng-tns-c72-0\"></i> Login </a></li><!----><li _ngcontent-sc72=\"\" class=\"ng-tns-c72-0 ng-star-inserted\" style=\"\"><a _ngcontent-sc72=\"\" title=\"'account.create_account' | translate\" class=\"ng-tns-c72-0\" href=\"/account/register\"><i _ngcontent-sc72=\"\" class=\"fa fa-user-plus ng-tns-c72-0\"></i> Register </a></li><!----><!----><!----></ul></li></ul><div _ngcontent-sc72=\"\" class=\"mt-auto text-center ng-tns-c72-0\"><a _ngcontent-sc72=\"\" class=\"d-inline-block p-2 text-white ng-tns-c72-0\" title=\"Read how we handle your information\" href=\"/gdpr/privacy-policy\">Privacy policy</a><a _ngcontent-sc72=\"\" class=\"d-inline-block p-2 text-white ng-tns-c72-0\" title=\"Read our terms of service\" href=\"/gdpr/terms-of-service\">Terms of service</a></div></nav></div></app-sidebar><div _ngcontent-sc76=\"\" class=\"main-body pb-1\"><div _ngcontent-sc76=\"\" class=\"main-content m-2 p-2 m-md-4 p-md-4\"><div _ngcontent-sc76=\"\" class=\"mx-auto main-container\"><router-outlet _ngcontent-sc76=\"\"></router-outlet><app-not-found _nghost-sc79=\"\" class=\"ng-star-inserted\"><h1 _ngcontent-sc79=\"\">Not found</h1><p _ngcontent-sc79=\"\"> Sorry, the page you're looking for does not exist. <br _ngcontent-sc79=\"\"><a _ngcontent-sc79=\"\" title=\"Take me to the homepage\" href=\"/\">Click here to go to the homepage</a>.\n",
      "</p></app-not-found><!----></div></div><div _ngcontent-sc76=\"\" class=\"main-footer px-3\"> Â© MintPlayer </div></div><playlist-sidebar _ngcontent-sc76=\"\" _nghost-sc74=\"\" class=\"closed\"><div _ngcontent-sc74=\"\" class=\"sidebar-right d-flex flex-column h-100\"><div _ngcontent-sc74=\"\" class=\"d-block border-bottom\"><div _ngcontent-sc74=\"\" class=\"d-block text-center\"><button _ngcontent-sc74=\"\" title=\"Toggle random\" data-toggle=\"button\" autocomplete=\"off\" class=\"btn btn-lg btn-default\" aria-pressed=\"false\"><i _ngcontent-sc74=\"\" class=\"fa fa-long-arrow-right ng-star-inserted\"></i><!----><!----></button><button _ngcontent-sc74=\"\" title=\"Repeat\" data-toggle=\"button\" autocomplete=\"off\" class=\"btn btn-lg btn-default\" aria-pressed=\"false\"><i _ngcontent-sc74=\"\" class=\"fa fa-repeat\"><i _ngcontent-sc74=\"\" class=\"fa fa-sm fa-times-circle ng-star-inserted\"></i><!----><!----></i></button></div><div _ngcontent-sc74=\"\" class=\"d-block text-center\"><button _ngcontent-sc74=\"\" title=\"Previous song\" class=\"btn btn-lg btn-default\"><i _ngcontent-sc74=\"\" class=\"fa fa-backward\"></i></button><button _ngcontent-sc74=\"\" title=\"Toggle play/pause\" class=\"btn btn-lg btn-default\"><i _ngcontent-sc74=\"\" class=\"fa fa-play ng-star-inserted\"></i><!----><!----></button><button _ngcontent-sc74=\"\" title=\"Next song\" class=\"btn btn-lg btn-default\"><i _ngcontent-sc74=\"\" class=\"fa fa-forward\"></i></button></div><!----><!----></div><ul _ngcontent-sc74=\"\" class=\"overflow-auto mb-0\"><!----></ul></div></playlist-sidebar></div><card _ngcontent-sc76=\"\" class=\"youtube-card d-none\" _nghost-sc59=\"\"><div _ngcontent-sc59=\"\" class=\"card mt--100\" style=\"left:0px;top:0px;\"><div _ngcontent-sc59=\"\" class=\"card-header cursor-grab\"><header _ngcontent-sc76=\"\"><div _ngcontent-sc76=\"\" class=\"pull-left\"> Currently playing </div></header></div><div _ngcontent-sc59=\"\" class=\"card-body position-relative card-body-no-padding overflow-x-auto\"><content _ngcontent-sc76=\"\"><div _ngcontent-sc76=\"\" class=\"d-table caption-bottom\"><youtube-player _ngcontent-sc76=\"\" _nghost-sc75=\"\"><div _ngcontent-sc75=\"\" class=\"d-block\" id=\"player\"></div></youtube-player><span _ngcontent-sc76=\"\" class=\"d-table-caption\"><!----><!----></span></div></content><div _ngcontent-sc59=\"\" class=\"card-overlay d-none\"></div></div></div></card></body></app-root>\n",
      "<script src=\"runtime.2b1b393913cc0e0a21e7.js\" defer=\"\"></script><script src=\"polyfills-es5.78bb6513443e9c6aa6b7.js\" nomodule=\"\" defer=\"\"></script><script src=\"polyfills.8719d0af0a390370d865.js\" defer=\"\"></script><script src=\"main.5b5ec6c648205bc4e730.js\" defer=\"\"></script>\n",
      "\n",
      "</body></html>\n"
     ]
    }
   ],
   "source": [
    "url = 'https://musicdemons.com/api/v1/artist/21'\n",
    "r = requests.get(url)\n",
    "print(r.text)"
   ]
  },
  {
   "cell_type": "code",
   "execution_count": 23,
   "metadata": {},
   "outputs": [
    {
     "name": "stdout",
     "output_type": "stream",
     "text": [
      "<!DOCTYPE html><html lang=\"en\"><head>\n",
      "  <base href=\"/\">\n",
      "  <title>MintPlayer - Open-source music player</title>\n",
      "  <meta charset=\"UTF-8\">\n",
      "  <meta http-equiv=\"Content-Type\" content=\"text/html; charset=UTF-8\">\n",
      "  <meta http-equiv=\"Content-Language\" content=\"en\">\n",
      "  <meta http-equiv=\"X-UA-Compatible\" content=\"IE=edge\">\n",
      "  <meta http-equiv=\"Cache-control\" content=\"no-cache, no-store, must-revalidate\">\n",
      "  <meta http-equiv=\"Pragma\" content=\"no-cache\">\n",
      "  <meta http-equiv=\"Expires\" content=\"0\">\n",
      "  <meta name=\"viewport\" content=\"width=device-width, initial-scale=1\">\n",
      "  <meta name=\"keywords\" content=\"music,lyrics,database,api,open-source,open-data\">\n",
      "  <meta name=\"author\" content=\"Pieterjan De Clippel\">\n",
      "  <met\n"
     ]
    }
   ],
   "source": [
    "url = 'https://musicdemons.com/api/v1/artist/21'\n",
    "headers = {'with': 'songs,members'}\n",
    "r = requests.get(url, headers=headers)\n",
    "print(r.text[:700])"
   ]
  },
  {
   "cell_type": "code",
   "execution_count": 13,
   "metadata": {},
   "outputs": [
    {
     "ename": "JSONDecodeError",
     "evalue": "Expecting value: line 1 column 1 (char 0)",
     "output_type": "error",
     "traceback": [
      "\u001b[1;31m---------------------------------------------------------------------------\u001b[0m",
      "\u001b[1;31mJSONDecodeError\u001b[0m                           Traceback (most recent call last)",
      "\u001b[1;32m<ipython-input-13-79804825ed31>\u001b[0m in \u001b[0;36m<module>\u001b[1;34m\u001b[0m\n\u001b[0;32m      1\u001b[0m \u001b[1;32mimport\u001b[0m \u001b[0mjson\u001b[0m\u001b[1;33m\u001b[0m\u001b[1;33m\u001b[0m\u001b[0m\n\u001b[1;32m----> 2\u001b[1;33m \u001b[0mtext_json\u001b[0m \u001b[1;33m=\u001b[0m \u001b[0mjson\u001b[0m\u001b[1;33m.\u001b[0m\u001b[0mloads\u001b[0m\u001b[1;33m(\u001b[0m\u001b[0mr\u001b[0m\u001b[1;33m.\u001b[0m\u001b[0mtext\u001b[0m\u001b[1;33m)\u001b[0m\u001b[1;33m\u001b[0m\u001b[1;33m\u001b[0m\u001b[0m\n\u001b[0m\u001b[0;32m      3\u001b[0m \u001b[0mprint\u001b[0m\u001b[1;33m(\u001b[0m\u001b[0mtext_json\u001b[0m\u001b[1;33m[\u001b[0m\u001b[1;34m'name'\u001b[0m\u001b[1;33m]\u001b[0m\u001b[1;33m)\u001b[0m\u001b[1;33m\u001b[0m\u001b[1;33m\u001b[0m\u001b[0m\n\u001b[0;32m      4\u001b[0m \u001b[1;32mfor\u001b[0m \u001b[0msong\u001b[0m \u001b[1;32min\u001b[0m \u001b[0mtext_json\u001b[0m\u001b[1;33m[\u001b[0m\u001b[1;34m'songs'\u001b[0m\u001b[1;33m]\u001b[0m\u001b[1;33m:\u001b[0m\u001b[1;33m\u001b[0m\u001b[1;33m\u001b[0m\u001b[0m\n\u001b[0;32m      5\u001b[0m     \u001b[0mprint\u001b[0m\u001b[1;33m(\u001b[0m\u001b[0msong\u001b[0m\u001b[1;33m[\u001b[0m\u001b[1;34m'title'\u001b[0m\u001b[1;33m]\u001b[0m\u001b[1;33m)\u001b[0m\u001b[1;33m\u001b[0m\u001b[1;33m\u001b[0m\u001b[0m\n",
      "\u001b[1;32m~\\AppData\\Local\\Programs\\Python\\Python38\\lib\\json\\__init__.py\u001b[0m in \u001b[0;36mloads\u001b[1;34m(s, cls, object_hook, parse_float, parse_int, parse_constant, object_pairs_hook, **kw)\u001b[0m\n\u001b[0;32m    355\u001b[0m             \u001b[0mparse_int\u001b[0m \u001b[1;32mis\u001b[0m \u001b[1;32mNone\u001b[0m \u001b[1;32mand\u001b[0m \u001b[0mparse_float\u001b[0m \u001b[1;32mis\u001b[0m \u001b[1;32mNone\u001b[0m \u001b[1;32mand\u001b[0m\u001b[1;33m\u001b[0m\u001b[1;33m\u001b[0m\u001b[0m\n\u001b[0;32m    356\u001b[0m             parse_constant is None and object_pairs_hook is None and not kw):\n\u001b[1;32m--> 357\u001b[1;33m         \u001b[1;32mreturn\u001b[0m \u001b[0m_default_decoder\u001b[0m\u001b[1;33m.\u001b[0m\u001b[0mdecode\u001b[0m\u001b[1;33m(\u001b[0m\u001b[0ms\u001b[0m\u001b[1;33m)\u001b[0m\u001b[1;33m\u001b[0m\u001b[1;33m\u001b[0m\u001b[0m\n\u001b[0m\u001b[0;32m    358\u001b[0m     \u001b[1;32mif\u001b[0m \u001b[0mcls\u001b[0m \u001b[1;32mis\u001b[0m \u001b[1;32mNone\u001b[0m\u001b[1;33m:\u001b[0m\u001b[1;33m\u001b[0m\u001b[1;33m\u001b[0m\u001b[0m\n\u001b[0;32m    359\u001b[0m         \u001b[0mcls\u001b[0m \u001b[1;33m=\u001b[0m \u001b[0mJSONDecoder\u001b[0m\u001b[1;33m\u001b[0m\u001b[1;33m\u001b[0m\u001b[0m\n",
      "\u001b[1;32m~\\AppData\\Local\\Programs\\Python\\Python38\\lib\\json\\decoder.py\u001b[0m in \u001b[0;36mdecode\u001b[1;34m(self, s, _w)\u001b[0m\n\u001b[0;32m    335\u001b[0m \u001b[1;33m\u001b[0m\u001b[0m\n\u001b[0;32m    336\u001b[0m         \"\"\"\n\u001b[1;32m--> 337\u001b[1;33m         \u001b[0mobj\u001b[0m\u001b[1;33m,\u001b[0m \u001b[0mend\u001b[0m \u001b[1;33m=\u001b[0m \u001b[0mself\u001b[0m\u001b[1;33m.\u001b[0m\u001b[0mraw_decode\u001b[0m\u001b[1;33m(\u001b[0m\u001b[0ms\u001b[0m\u001b[1;33m,\u001b[0m \u001b[0midx\u001b[0m\u001b[1;33m=\u001b[0m\u001b[0m_w\u001b[0m\u001b[1;33m(\u001b[0m\u001b[0ms\u001b[0m\u001b[1;33m,\u001b[0m \u001b[1;36m0\u001b[0m\u001b[1;33m)\u001b[0m\u001b[1;33m.\u001b[0m\u001b[0mend\u001b[0m\u001b[1;33m(\u001b[0m\u001b[1;33m)\u001b[0m\u001b[1;33m)\u001b[0m\u001b[1;33m\u001b[0m\u001b[1;33m\u001b[0m\u001b[0m\n\u001b[0m\u001b[0;32m    338\u001b[0m         \u001b[0mend\u001b[0m \u001b[1;33m=\u001b[0m \u001b[0m_w\u001b[0m\u001b[1;33m(\u001b[0m\u001b[0ms\u001b[0m\u001b[1;33m,\u001b[0m \u001b[0mend\u001b[0m\u001b[1;33m)\u001b[0m\u001b[1;33m.\u001b[0m\u001b[0mend\u001b[0m\u001b[1;33m(\u001b[0m\u001b[1;33m)\u001b[0m\u001b[1;33m\u001b[0m\u001b[1;33m\u001b[0m\u001b[0m\n\u001b[0;32m    339\u001b[0m         \u001b[1;32mif\u001b[0m \u001b[0mend\u001b[0m \u001b[1;33m!=\u001b[0m \u001b[0mlen\u001b[0m\u001b[1;33m(\u001b[0m\u001b[0ms\u001b[0m\u001b[1;33m)\u001b[0m\u001b[1;33m:\u001b[0m\u001b[1;33m\u001b[0m\u001b[1;33m\u001b[0m\u001b[0m\n",
      "\u001b[1;32m~\\AppData\\Local\\Programs\\Python\\Python38\\lib\\json\\decoder.py\u001b[0m in \u001b[0;36mraw_decode\u001b[1;34m(self, s, idx)\u001b[0m\n\u001b[0;32m    353\u001b[0m             \u001b[0mobj\u001b[0m\u001b[1;33m,\u001b[0m \u001b[0mend\u001b[0m \u001b[1;33m=\u001b[0m \u001b[0mself\u001b[0m\u001b[1;33m.\u001b[0m\u001b[0mscan_once\u001b[0m\u001b[1;33m(\u001b[0m\u001b[0ms\u001b[0m\u001b[1;33m,\u001b[0m \u001b[0midx\u001b[0m\u001b[1;33m)\u001b[0m\u001b[1;33m\u001b[0m\u001b[1;33m\u001b[0m\u001b[0m\n\u001b[0;32m    354\u001b[0m         \u001b[1;32mexcept\u001b[0m \u001b[0mStopIteration\u001b[0m \u001b[1;32mas\u001b[0m \u001b[0merr\u001b[0m\u001b[1;33m:\u001b[0m\u001b[1;33m\u001b[0m\u001b[1;33m\u001b[0m\u001b[0m\n\u001b[1;32m--> 355\u001b[1;33m             \u001b[1;32mraise\u001b[0m \u001b[0mJSONDecodeError\u001b[0m\u001b[1;33m(\u001b[0m\u001b[1;34m\"Expecting value\"\u001b[0m\u001b[1;33m,\u001b[0m \u001b[0ms\u001b[0m\u001b[1;33m,\u001b[0m \u001b[0merr\u001b[0m\u001b[1;33m.\u001b[0m\u001b[0mvalue\u001b[0m\u001b[1;33m)\u001b[0m \u001b[1;32mfrom\u001b[0m \u001b[1;32mNone\u001b[0m\u001b[1;33m\u001b[0m\u001b[1;33m\u001b[0m\u001b[0m\n\u001b[0m\u001b[0;32m    356\u001b[0m         \u001b[1;32mreturn\u001b[0m \u001b[0mobj\u001b[0m\u001b[1;33m,\u001b[0m \u001b[0mend\u001b[0m\u001b[1;33m\u001b[0m\u001b[1;33m\u001b[0m\u001b[0m\n",
      "\u001b[1;31mJSONDecodeError\u001b[0m: Expecting value: line 1 column 1 (char 0)"
     ]
    }
   ],
   "source": [
    "text_json = json.loads(r.text)\n",
    "print(text_json['name'])\n",
    "for song in text_json['songs']:\n",
    "    print(song['title'])"
   ]
  },
  {
   "cell_type": "code",
   "execution_count": null,
   "metadata": {},
   "outputs": [],
   "source": []
  }
 ],
 "metadata": {
  "kernelspec": {
   "display_name": "Python 3.8.1 64-bit",
   "language": "python",
   "name": "python38164bit2c1687f2b73645c4a6a3d2d9ac2c947f"
  },
  "language_info": {
   "codemirror_mode": {
    "name": "ipython",
    "version": 3
   },
   "file_extension": ".py",
   "mimetype": "text/x-python",
   "name": "python",
   "nbconvert_exporter": "python",
   "pygments_lexer": "ipython3",
   "version": "3.8.5"
  }
 },
 "nbformat": 4,
 "nbformat_minor": 4
}

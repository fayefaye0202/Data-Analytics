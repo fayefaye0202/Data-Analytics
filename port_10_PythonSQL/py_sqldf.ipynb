{
 "cells": [
  {
   "attachments": {
    "image.png": {
     "image/png": "[encoded data removed]"
    }
   },
   "cell_type": "markdown",
   "metadata": {},
   "source": [
    "![image.png](attachment:image.png)"
   ]
  },
  {
   "cell_type": "markdown",
   "metadata": {},
   "source": [
    "# Using SQL in Python"
   ]
  },
  {
   "cell_type": "markdown",
   "metadata": {},
   "source": [
    "## Easiest method is to use Pandas SQL wrapper called pysqldf"
   ]
  },
  {
   "cell_type": "markdown",
   "metadata": {},
   "source": [
    "### We can start with some built-in datasets..."
   ]
  },
  {
   "cell_type": "code",
   "execution_count": 1,
   "metadata": {},
   "outputs": [],
   "source": [
    "from pysqldf import SQLDF, load_meat, load_births"
   ]
  },
  {
   "cell_type": "code",
   "execution_count": 2,
   "metadata": {},
   "outputs": [],
   "source": [
    "sqldf = SQLDF(globals())\n",
    "meat = load_meat()\n",
    "births = load_births()"
   ]
  },
  {
   "cell_type": "code",
   "execution_count": 3,
   "metadata": {},
   "outputs": [
    {
     "name": "stderr",
     "output_type": "stream",
     "text": [
      "C:\\Users\\brcaffer\\AppData\\Local\\Continuum\\anaconda3\\anaconda3b\\lib\\site-packages\\pandas\\io\\sql.py:531: FutureWarning: the 'flavor' parameter is deprecated and will be removed in a future version, as 'sqlite' is the only supported option when SQLAlchemy is not installed.\n",
      "  _validate_flavor_parameter(flavor)\n"
     ]
    },
    {
     "data": {
      "text/html": [
       "<div>\n",
       "<style scoped>\n",
       "    .dataframe tbody tr th:only-of-type {\n",
       "        vertical-align: middle;\n",
       "    }\n",
       "\n",
       "    .dataframe tbody tr th {\n",
       "        vertical-align: top;\n",
       "    }\n",
       "\n",
       "    .dataframe thead th {\n",
       "        text-align: right;\n",
       "    }\n",
       "</style>\n",
       "<table border=\"1\" class=\"dataframe\">\n",
       "  <thead>\n",
       "    <tr style=\"text-align: right;\">\n",
       "      <th></th>\n",
       "      <th>date</th>\n",
       "      <th>beef</th>\n",
       "      <th>veal</th>\n",
       "      <th>pork</th>\n",
       "      <th>lamb_and_mutton</th>\n",
       "      <th>broilers</th>\n",
       "      <th>other_chicken</th>\n",
       "      <th>turkey</th>\n",
       "    </tr>\n",
       "  </thead>\n",
       "  <tbody>\n",
       "    <tr>\n",
       "      <th>0</th>\n",
       "      <td>1944-01-01 00:00:00</td>\n",
       "      <td>751.0</td>\n",
       "      <td>85.0</td>\n",
       "      <td>1280.0</td>\n",
       "      <td>89.0</td>\n",
       "      <td>None</td>\n",
       "      <td>None</td>\n",
       "      <td>None</td>\n",
       "    </tr>\n",
       "    <tr>\n",
       "      <th>1</th>\n",
       "      <td>1944-02-01 00:00:00</td>\n",
       "      <td>713.0</td>\n",
       "      <td>77.0</td>\n",
       "      <td>1169.0</td>\n",
       "      <td>72.0</td>\n",
       "      <td>None</td>\n",
       "      <td>None</td>\n",
       "      <td>None</td>\n",
       "    </tr>\n",
       "    <tr>\n",
       "      <th>2</th>\n",
       "      <td>1944-03-01 00:00:00</td>\n",
       "      <td>741.0</td>\n",
       "      <td>90.0</td>\n",
       "      <td>1128.0</td>\n",
       "      <td>75.0</td>\n",
       "      <td>None</td>\n",
       "      <td>None</td>\n",
       "      <td>None</td>\n",
       "    </tr>\n",
       "    <tr>\n",
       "      <th>3</th>\n",
       "      <td>1944-04-01 00:00:00</td>\n",
       "      <td>650.0</td>\n",
       "      <td>89.0</td>\n",
       "      <td>978.0</td>\n",
       "      <td>66.0</td>\n",
       "      <td>None</td>\n",
       "      <td>None</td>\n",
       "      <td>None</td>\n",
       "    </tr>\n",
       "    <tr>\n",
       "      <th>4</th>\n",
       "      <td>1944-05-01 00:00:00</td>\n",
       "      <td>681.0</td>\n",
       "      <td>106.0</td>\n",
       "      <td>1029.0</td>\n",
       "      <td>78.0</td>\n",
       "      <td>None</td>\n",
       "      <td>None</td>\n",
       "      <td>None</td>\n",
       "    </tr>\n",
       "  </tbody>\n",
       "</table>\n",
       "</div>"
      ],
      "text/plain": [
       "                  date   beef   veal    pork  lamb_and_mutton broilers  \\\n",
       "0  1944-01-01 00:00:00  751.0   85.0  1280.0             89.0     None   \n",
       "1  1944-02-01 00:00:00  713.0   77.0  1169.0             72.0     None   \n",
       "2  1944-03-01 00:00:00  741.0   90.0  1128.0             75.0     None   \n",
       "3  1944-04-01 00:00:00  650.0   89.0   978.0             66.0     None   \n",
       "4  1944-05-01 00:00:00  681.0  106.0  1029.0             78.0     None   \n",
       "\n",
       "  other_chicken turkey  \n",
       "0          None   None  \n",
       "1          None   None  \n",
       "2          None   None  \n",
       "3          None   None  \n",
       "4          None   None  "
      ]
     },
     "execution_count": 3,
     "metadata": {},
     "output_type": "execute_result"
    }
   ],
   "source": [
    "sqldf.execute(\"SELECT * FROM meat LIMIT 10;\").head()"
   ]
  },
  {
   "cell_type": "code",
   "execution_count": 23,
   "metadata": {},
   "outputs": [
    {
     "name": "stderr",
     "output_type": "stream",
     "text": [
      "C:\\Users\\brcaffer\\AppData\\Local\\Continuum\\anaconda3\\anaconda3b\\lib\\site-packages\\pandas\\io\\sql.py:531: FutureWarning: the 'flavor' parameter is deprecated and will be removed in a future version, as 'sqlite' is the only supported option when SQLAlchemy is not installed.\n",
      "  _validate_flavor_parameter(flavor)\n"
     ]
    },
    {
     "data": {
      "text/html": [
       "<div>\n",
       "<style scoped>\n",
       "    .dataframe tbody tr th:only-of-type {\n",
       "        vertical-align: middle;\n",
       "    }\n",
       "\n",
       "    .dataframe tbody tr th {\n",
       "        vertical-align: top;\n",
       "    }\n",
       "\n",
       "    .dataframe thead th {\n",
       "        text-align: right;\n",
       "    }\n",
       "</style>\n",
       "<table border=\"1\" class=\"dataframe\">\n",
       "  <thead>\n",
       "    <tr style=\"text-align: right;\">\n",
       "      <th></th>\n",
       "      <th>date</th>\n",
       "      <th>beef</th>\n",
       "      <th>veal</th>\n",
       "      <th>pork</th>\n",
       "      <th>lamb_and_mutton</th>\n",
       "      <th>broilers</th>\n",
       "      <th>other_chicken</th>\n",
       "      <th>turkey</th>\n",
       "    </tr>\n",
       "  </thead>\n",
       "  <tbody>\n",
       "    <tr>\n",
       "      <th>0</th>\n",
       "      <td>1944-01-01 00:00:00</td>\n",
       "      <td>751.0</td>\n",
       "      <td>85.0</td>\n",
       "      <td>1280.0</td>\n",
       "      <td>89.0</td>\n",
       "      <td>NaN</td>\n",
       "      <td>NaN</td>\n",
       "      <td>NaN</td>\n",
       "    </tr>\n",
       "    <tr>\n",
       "      <th>1</th>\n",
       "      <td>1944-02-01 00:00:00</td>\n",
       "      <td>713.0</td>\n",
       "      <td>77.0</td>\n",
       "      <td>1169.0</td>\n",
       "      <td>72.0</td>\n",
       "      <td>NaN</td>\n",
       "      <td>NaN</td>\n",
       "      <td>NaN</td>\n",
       "    </tr>\n",
       "    <tr>\n",
       "      <th>2</th>\n",
       "      <td>1944-03-01 00:00:00</td>\n",
       "      <td>741.0</td>\n",
       "      <td>90.0</td>\n",
       "      <td>1128.0</td>\n",
       "      <td>75.0</td>\n",
       "      <td>NaN</td>\n",
       "      <td>NaN</td>\n",
       "      <td>NaN</td>\n",
       "    </tr>\n",
       "    <tr>\n",
       "      <th>3</th>\n",
       "      <td>1944-05-01 00:00:00</td>\n",
       "      <td>681.0</td>\n",
       "      <td>106.0</td>\n",
       "      <td>1029.0</td>\n",
       "      <td>78.0</td>\n",
       "      <td>NaN</td>\n",
       "      <td>NaN</td>\n",
       "      <td>NaN</td>\n",
       "    </tr>\n",
       "    <tr>\n",
       "      <th>4</th>\n",
       "      <td>1944-06-01 00:00:00</td>\n",
       "      <td>658.0</td>\n",
       "      <td>125.0</td>\n",
       "      <td>962.0</td>\n",
       "      <td>79.0</td>\n",
       "      <td>NaN</td>\n",
       "      <td>NaN</td>\n",
       "      <td>NaN</td>\n",
       "    </tr>\n",
       "  </tbody>\n",
       "</table>\n",
       "</div>"
      ],
      "text/plain": [
       "                  date   beef   veal    pork  lamb_and_mutton  broilers  \\\n",
       "0  1944-01-01 00:00:00  751.0   85.0  1280.0             89.0       NaN   \n",
       "1  1944-02-01 00:00:00  713.0   77.0  1169.0             72.0       NaN   \n",
       "2  1944-03-01 00:00:00  741.0   90.0  1128.0             75.0       NaN   \n",
       "3  1944-05-01 00:00:00  681.0  106.0  1029.0             78.0       NaN   \n",
       "4  1944-06-01 00:00:00  658.0  125.0   962.0             79.0       NaN   \n",
       "\n",
       "   other_chicken  turkey  \n",
       "0            NaN     NaN  \n",
       "1            NaN     NaN  \n",
       "2            NaN     NaN  \n",
       "3            NaN     NaN  \n",
       "4            NaN     NaN  "
      ]
     },
     "execution_count": 23,
     "metadata": {},
     "output_type": "execute_result"
    }
   ],
   "source": [
    "sqldf.execute(\"SELECT * FROM meat where beef > 650 order by date;\").head()"
   ]
  },
  {
   "cell_type": "code",
   "execution_count": 2,
   "metadata": {},
   "outputs": [],
   "source": [
    "def run_sql(sqlstatment):\n",
    "    sqldf.execute(sqlstatment)"
   ]
  },
  {
   "cell_type": "code",
   "execution_count": 3,
   "metadata": {},
   "outputs": [
    {
     "ename": "NameError",
     "evalue": "name 'sqldf' is not defined",
     "output_type": "error",
     "traceback": [
      "\u001b[1;31m---------------------------------------------------------------------------\u001b[0m",
      "\u001b[1;31mNameError\u001b[0m                                 Traceback (most recent call last)",
      "\u001b[1;32m<ipython-input-3-5b3b3163bfe8>\u001b[0m in \u001b[0;36m<module>\u001b[1;34m()\u001b[0m\n\u001b[1;32m----> 1\u001b[1;33m \u001b[0mrun_sql\u001b[0m\u001b[1;33m(\u001b[0m\u001b[1;34m\"SELECT * FROM meat where beef > 650 order by date;\"\u001b[0m\u001b[1;33m)\u001b[0m\u001b[1;33m\u001b[0m\u001b[0m\n\u001b[0m",
      "\u001b[1;32m<ipython-input-2-da3150be4e10>\u001b[0m in \u001b[0;36mrun_sql\u001b[1;34m(sqlstatment)\u001b[0m\n\u001b[0;32m      1\u001b[0m \u001b[1;32mdef\u001b[0m \u001b[0mrun_sql\u001b[0m\u001b[1;33m(\u001b[0m\u001b[0msqlstatment\u001b[0m\u001b[1;33m)\u001b[0m\u001b[1;33m:\u001b[0m\u001b[1;33m\u001b[0m\u001b[0m\n\u001b[1;32m----> 2\u001b[1;33m     \u001b[0msqldf\u001b[0m\u001b[1;33m.\u001b[0m\u001b[0mexecute\u001b[0m\u001b[1;33m(\u001b[0m\u001b[0msqlstatment\u001b[0m\u001b[1;33m)\u001b[0m\u001b[1;33m\u001b[0m\u001b[0m\n\u001b[0m",
      "\u001b[1;31mNameError\u001b[0m: name 'sqldf' is not defined"
     ]
    }
   ],
   "source": [
    "run_sql(\"SELECT * FROM meat where beef > 650 order by date;\")"
   ]
  },
  {
   "cell_type": "code",
   "execution_count": null,
   "metadata": {},
   "outputs": [],
   "source": []
  }
 ],
 "metadata": {
  "kernelspec": {
   "display_name": "Python 3",
   "language": "python",
   "name": "python3"
  },
  "language_info": {
   "codemirror_mode": {
    "name": "ipython",
    "version": 3
   },
   "file_extension": ".py",
   "mimetype": "text/x-python",
   "name": "python",
   "nbconvert_exporter": "python",
   "pygments_lexer": "ipython3",
   "version": "3.8.5"
  }
 },
 "nbformat": 4,
 "nbformat_minor": 4
}

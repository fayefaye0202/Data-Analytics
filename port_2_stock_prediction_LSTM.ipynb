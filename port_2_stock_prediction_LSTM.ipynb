{
 "cells": [
  {
   "cell_type": "code",
   "execution_count": 1,
   "metadata": {},
   "outputs": [],
   "source": [
    "## port_2_julia_chan\n",
    "## use artificial RNN i.e. LSTM to predict closing stock price using past years stock price"
   ]
  },
  {
   "cell_type": "code",
   "execution_count": 2,
   "metadata": {},
   "outputs": [
    {
     "data": {
      "text/plain": [
       "['.ipynb_checkpoints',\n",
       " 'AAPL_daily.csv',\n",
       " 'AF5365 Assignment 2_Thu_330 - Group7.ipynb',\n",
       " 'AF5365 Midterm Exam.ipynb',\n",
       " 'AF5365 Midterm Review codes.ipynb',\n",
       " 'AF5365B_Jupyter Notebook_Gp7_12_7_22.03.ipynb',\n",
       " 'ARKK_daily.csv',\n",
       " 'Assignment 1_Chiu Lok Ka.ipynb',\n",
       " 'backup_template.ipynb',\n",
       " 'data1.xlsx',\n",
       " 'FundRet.xlsx',\n",
       " 'GOOG_daily.csv',\n",
       " 'housing_data.csv',\n",
       " 'PFE_daily.csv',\n",
       " 'port_1_final_stock_prediction.ipynb',\n",
       " 'port_2_stock_prediction_LSTM.ipynb',\n",
       " 'port_3_prediction_housing_LR.ipynb',\n",
       " 'port_4_stock_market_analysis + MonteCarlo.ipynb',\n",
       " 'port_5_stock_prediction_LSTM.ipynb',\n",
       " 'port_6_simpleLR.ipynb',\n",
       " 'TSLA_daily.csv',\n",
       " 'TSM_daily.csv',\n",
       " 'Week 12. Big Data in Accounting and Finance.ipynb',\n",
       " 'Week 2_Introduction to Scientific Computing.ipynb',\n",
       " 'Week 3.ipynb',\n",
       " 'Week 7.ipynb',\n",
       " 'Week 9 Notebook.ipynb',\n",
       " 'Week_11_Lecture.ipynb']"
      ]
     },
     "execution_count": 2,
     "metadata": {},
     "output_type": "execute_result"
    }
   ],
   "source": [
    "import os\n",
    "\n",
    "#show current working directory\n",
    "os.getcwd()\n",
    "os.listdir()"
   ]
  },
  {
   "cell_type": "code",
   "execution_count": 3,
   "metadata": {},
   "outputs": [],
   "source": [
    "# update the working directory\n",
    "os.chdir('C:\\\\Users\\\\JC\\\\myPortfolio')"
   ]
  },
  {
   "cell_type": "code",
   "execution_count": 51,
   "metadata": {},
   "outputs": [],
   "source": [
    "import numpy as np\n",
    "import pandas as pd\n",
    "import matplotlib.pyplot as plt\n",
    "import pandas_datareader.data as pdr\n",
    "\n",
    "from datetime import datetime, date\n",
    "\n",
    "import time\n",
    "import math\n",
    "\n",
    "import tensorflow\n",
    "from sklearn.preprocessing import StandardScaler, MinMaxScaler, OneHotEncoder\n",
    "\n",
    "from keras.models import Sequential, load_model\n",
    "from keras.layers import Dense, Dropout, LSTM"
   ]
  },
  {
   "cell_type": "code",
   "execution_count": 5,
   "metadata": {},
   "outputs": [
    {
     "data": {
      "text/html": [
       "<div>\n",
       "<style scoped>\n",
       "    .dataframe tbody tr th:only-of-type {\n",
       "        vertical-align: middle;\n",
       "    }\n",
       "\n",
       "    .dataframe tbody tr th {\n",
       "        vertical-align: top;\n",
       "    }\n",
       "\n",
       "    .dataframe thead th {\n",
       "        text-align: right;\n",
       "    }\n",
       "</style>\n",
       "<table border=\"1\" class=\"dataframe\">\n",
       "  <thead>\n",
       "    <tr style=\"text-align: right;\">\n",
       "      <th></th>\n",
       "      <th>High</th>\n",
       "      <th>Low</th>\n",
       "      <th>Open</th>\n",
       "      <th>Close</th>\n",
       "      <th>Volume</th>\n",
       "      <th>Adj Close</th>\n",
       "    </tr>\n",
       "    <tr>\n",
       "      <th>Date</th>\n",
       "      <th></th>\n",
       "      <th></th>\n",
       "      <th></th>\n",
       "      <th></th>\n",
       "      <th></th>\n",
       "      <th></th>\n",
       "    </tr>\n",
       "  </thead>\n",
       "  <tbody>\n",
       "    <tr>\n",
       "      <th>2016-02-02</th>\n",
       "      <td>38.624001</td>\n",
       "      <td>36.046001</td>\n",
       "      <td>38.484001</td>\n",
       "      <td>36.556000</td>\n",
       "      <td>28868000.0</td>\n",
       "      <td>36.556000</td>\n",
       "    </tr>\n",
       "    <tr>\n",
       "      <th>2016-02-03</th>\n",
       "      <td>36.787998</td>\n",
       "      <td>34.035999</td>\n",
       "      <td>36.717999</td>\n",
       "      <td>34.695999</td>\n",
       "      <td>39657000.0</td>\n",
       "      <td>34.695999</td>\n",
       "    </tr>\n",
       "    <tr>\n",
       "      <th>2016-02-04</th>\n",
       "      <td>35.195999</td>\n",
       "      <td>33.397999</td>\n",
       "      <td>34.139999</td>\n",
       "      <td>35.066002</td>\n",
       "      <td>21927000.0</td>\n",
       "      <td>35.066002</td>\n",
       "    </tr>\n",
       "    <tr>\n",
       "      <th>2016-02-05</th>\n",
       "      <td>34.599998</td>\n",
       "      <td>31.548000</td>\n",
       "      <td>34.259998</td>\n",
       "      <td>32.520000</td>\n",
       "      <td>47188000.0</td>\n",
       "      <td>32.520000</td>\n",
       "    </tr>\n",
       "    <tr>\n",
       "      <th>2016-02-08</th>\n",
       "      <td>31.430000</td>\n",
       "      <td>29.200001</td>\n",
       "      <td>31.420000</td>\n",
       "      <td>29.598000</td>\n",
       "      <td>46565000.0</td>\n",
       "      <td>29.598000</td>\n",
       "    </tr>\n",
       "    <tr>\n",
       "      <th>...</th>\n",
       "      <td>...</td>\n",
       "      <td>...</td>\n",
       "      <td>...</td>\n",
       "      <td>...</td>\n",
       "      <td>...</td>\n",
       "      <td>...</td>\n",
       "    </tr>\n",
       "    <tr>\n",
       "      <th>2021-01-25</th>\n",
       "      <td>900.400024</td>\n",
       "      <td>838.820007</td>\n",
       "      <td>855.000000</td>\n",
       "      <td>880.799988</td>\n",
       "      <td>41173400.0</td>\n",
       "      <td>880.799988</td>\n",
       "    </tr>\n",
       "    <tr>\n",
       "      <th>2021-01-26</th>\n",
       "      <td>895.900024</td>\n",
       "      <td>871.599976</td>\n",
       "      <td>891.380005</td>\n",
       "      <td>883.090027</td>\n",
       "      <td>23131600.0</td>\n",
       "      <td>883.090027</td>\n",
       "    </tr>\n",
       "    <tr>\n",
       "      <th>2021-01-27</th>\n",
       "      <td>891.500000</td>\n",
       "      <td>858.659973</td>\n",
       "      <td>870.349976</td>\n",
       "      <td>864.159973</td>\n",
       "      <td>27334000.0</td>\n",
       "      <td>864.159973</td>\n",
       "    </tr>\n",
       "    <tr>\n",
       "      <th>2021-01-28</th>\n",
       "      <td>848.000000</td>\n",
       "      <td>801.000000</td>\n",
       "      <td>820.000000</td>\n",
       "      <td>835.429993</td>\n",
       "      <td>26378000.0</td>\n",
       "      <td>835.429993</td>\n",
       "    </tr>\n",
       "    <tr>\n",
       "      <th>2021-01-29</th>\n",
       "      <td>842.409973</td>\n",
       "      <td>780.099976</td>\n",
       "      <td>830.000000</td>\n",
       "      <td>793.530029</td>\n",
       "      <td>34758800.0</td>\n",
       "      <td>793.530029</td>\n",
       "    </tr>\n",
       "  </tbody>\n",
       "</table>\n",
       "<p>1258 rows × 6 columns</p>\n",
       "</div>"
      ],
      "text/plain": [
       "                  High         Low        Open       Close      Volume  \\\n",
       "Date                                                                     \n",
       "2016-02-02   38.624001   36.046001   38.484001   36.556000  28868000.0   \n",
       "2016-02-03   36.787998   34.035999   36.717999   34.695999  39657000.0   \n",
       "2016-02-04   35.195999   33.397999   34.139999   35.066002  21927000.0   \n",
       "2016-02-05   34.599998   31.548000   34.259998   32.520000  47188000.0   \n",
       "2016-02-08   31.430000   29.200001   31.420000   29.598000  46565000.0   \n",
       "...                ...         ...         ...         ...         ...   \n",
       "2021-01-25  900.400024  838.820007  855.000000  880.799988  41173400.0   \n",
       "2021-01-26  895.900024  871.599976  891.380005  883.090027  23131600.0   \n",
       "2021-01-27  891.500000  858.659973  870.349976  864.159973  27334000.0   \n",
       "2021-01-28  848.000000  801.000000  820.000000  835.429993  26378000.0   \n",
       "2021-01-29  842.409973  780.099976  830.000000  793.530029  34758800.0   \n",
       "\n",
       "             Adj Close  \n",
       "Date                    \n",
       "2016-02-02   36.556000  \n",
       "2016-02-03   34.695999  \n",
       "2016-02-04   35.066002  \n",
       "2016-02-05   32.520000  \n",
       "2016-02-08   29.598000  \n",
       "...                ...  \n",
       "2021-01-25  880.799988  \n",
       "2021-01-26  883.090027  \n",
       "2021-01-27  864.159973  \n",
       "2021-01-28  835.429993  \n",
       "2021-01-29  793.530029  \n",
       "\n",
       "[1258 rows x 6 columns]"
      ]
     },
     "execution_count": 5,
     "metadata": {},
     "output_type": "execute_result"
    }
   ],
   "source": [
    "# get stock quote\n",
    "df = pdr.DataReader('TSLA','yahoo')\n",
    "df"
   ]
  },
  {
   "cell_type": "code",
   "execution_count": 6,
   "metadata": {},
   "outputs": [
    {
     "name": "stdout",
     "output_type": "stream",
     "text": [
      "(1258, 6)\n"
     ]
    }
   ],
   "source": [
    "# get number of column and row in dataset\n",
    "print(df.shape)"
   ]
  },
  {
   "cell_type": "code",
   "execution_count": 7,
   "metadata": {},
   "outputs": [
    {
     "data": {
      "image/png": "[encoded data removed]",
      "text/plain": [
       "<Figure size 1152x576 with 1 Axes>"
      ]
     },
     "metadata": {
      "needs_background": "light"
     },
     "output_type": "display_data"
    }
   ],
   "source": [
    "# visualize closing price history plots\n",
    "\n",
    "plt.figure(figsize = (16,8))\n",
    "plt.title('Close Price History - ')\n",
    "plt.plot(df['Adj Close'])\n",
    "plt.xlabel('Date',fontsize = 14)\n",
    "plt.ylabel('Adj Close Price USD($)',fontsize = 14)\n",
    "plt.grid(b=1)\n",
    "plt.show()"
   ]
  },
  {
   "cell_type": "code",
   "execution_count": 8,
   "metadata": {},
   "outputs": [
    {
     "name": "stdout",
     "output_type": "stream",
     "text": [
      "             Adj Close\n",
      "Date                  \n",
      "2016-02-02   36.556000\n",
      "2016-02-03   34.695999\n",
      "2016-02-04   35.066002\n",
      "2016-02-05   32.520000\n",
      "2016-02-08   29.598000\n",
      "...                ...\n",
      "2021-01-25  880.799988\n",
      "2021-01-26  883.090027\n",
      "2021-01-27  864.159973\n",
      "2021-01-28  835.429993\n",
      "2021-01-29  793.530029\n",
      "\n",
      "[1258 rows x 1 columns]\n"
     ]
    }
   ],
   "source": [
    "# create dataframe with only close price column for analysis\n",
    "data = df.filter(['Adj Close'])\n",
    "print(data)"
   ]
  },
  {
   "cell_type": "code",
   "execution_count": 9,
   "metadata": {},
   "outputs": [
    {
     "data": {
      "text/plain": [
       "array([[ 36.55599976],\n",
       "       [ 34.69599915],\n",
       "       [ 35.06600189],\n",
       "       ...,\n",
       "       [864.15997314],\n",
       "       [835.42999268],\n",
       "       [793.5300293 ]])"
      ]
     },
     "execution_count": 9,
     "metadata": {},
     "output_type": "execute_result"
    }
   ],
   "source": [
    "# convert Adj Close dataframe into numpy array\n",
    "dataset = data.values\n",
    "dataset"
   ]
  },
  {
   "cell_type": "code",
   "execution_count": 10,
   "metadata": {},
   "outputs": [
    {
     "data": {
      "text/plain": [
       "1007"
      ]
     },
     "execution_count": 10,
     "metadata": {},
     "output_type": "execute_result"
    }
   ],
   "source": [
    "# get number of rows to train the model\n",
    "train_data_len = math.ceil(len(dataset)*.8)#using 80:20 train test split\n",
    "train_data_len"
   ]
  },
  {
   "cell_type": "code",
   "execution_count": 11,
   "metadata": {},
   "outputs": [],
   "source": [
    "# Data Normalization\n",
    "\n",
    "scaler = MinMaxScaler(feature_range=(0,1)) # create min max scale object\n",
    "scaled_data = scaler.fit_transform(dataset)"
   ]
  },
  {
   "cell_type": "code",
   "execution_count": 12,
   "metadata": {},
   "outputs": [],
   "source": [
    "# create scaled training dataset\n",
    "train_data = scaled_data[0:train_data_len,:]\n",
    "\n",
    "#split scaled data into x_train and y_train datasets\n",
    "x_train = []\n",
    "y_train = []\n",
    "\n",
    "#use past 60 days data as time step to predict close price\n",
    "for i in range(60, len(train_data)):\n",
    "    x_train.append(train_data[i-60:i,0])\n",
    "    y_train.append(train_data[i,0])"
   ]
  },
  {
   "cell_type": "code",
   "execution_count": 13,
   "metadata": {},
   "outputs": [],
   "source": [
    "#convert x_train and y_train list to numpy arrays\n",
    "\n",
    "x_train = np.array(x_train)\n",
    "y_train = np.array(y_train)"
   ]
  },
  {
   "cell_type": "code",
   "execution_count": 14,
   "metadata": {},
   "outputs": [
    {
     "data": {
      "text/plain": [
       "(947, 60, 1)"
      ]
     },
     "execution_count": 14,
     "metadata": {},
     "output_type": "execute_result"
    }
   ],
   "source": [
    "# Reshape the dataset for training model LSTM\n",
    "#convert to 3D array of # of rows/samples, timestep and features\n",
    "x_train = np.reshape(x_train, (x_train.shape[0],x_train.shape[1],1))\n",
    "x_train.shape"
   ]
  },
  {
   "cell_type": "code",
   "execution_count": 15,
   "metadata": {},
   "outputs": [],
   "source": [
    "# Build LSTM model\n",
    "\n",
    "model = Sequential()\n",
    "model.add(LSTM(50, return_sequences = True, input_shape = (x_train.shape[1],1))) \n",
    "# set 50 neurones for LSTM layer, use another LSTM layer\n",
    "model.add(LSTM(50, return_sequences = False))\n",
    "model.add(Dense(25)) # densely connected neuron layer\n",
    "model.add(Dense(1))"
   ]
  },
  {
   "cell_type": "code",
   "execution_count": 16,
   "metadata": {},
   "outputs": [],
   "source": [
    "# Compile the model\n",
    "model.compile(optimizer='adam', loss='mean_squared_error')"
   ]
  },
  {
   "cell_type": "code",
   "execution_count": 17,
   "metadata": {},
   "outputs": [
    {
     "name": "stdout",
     "output_type": "stream",
     "text": [
      "947/947 [==============================] - 51s 48ms/step - loss: 1.1033e-04\n"
     ]
    },
    {
     "data": {
      "text/plain": [
       "<tensorflow.python.keras.callbacks.History at 0x1d134068910>"
      ]
     },
     "execution_count": 17,
     "metadata": {},
     "output_type": "execute_result"
    }
   ],
   "source": [
    "# Train the model\n",
    "model.fit(x_train,y_train, batch_size = 1, epochs = 1)"
   ]
  },
  {
   "cell_type": "code",
   "execution_count": 18,
   "metadata": {},
   "outputs": [],
   "source": [
    "# create Testing data set\n",
    "# create new array containing scaled test data values\n",
    "\n",
    "test_data = scaled_data[train_data_len - 60: , :]"
   ]
  },
  {
   "cell_type": "code",
   "execution_count": 19,
   "metadata": {},
   "outputs": [],
   "source": [
    "# create data sets x_test and y_test\n",
    "x_test = []\n",
    "y_test = dataset[train_data_len: ,:]\n",
    "\n",
    "for i in range(60, len(test_data)):\n",
    "    x_test.append(test_data[i-60:i,0])"
   ]
  },
  {
   "cell_type": "code",
   "execution_count": 20,
   "metadata": {},
   "outputs": [],
   "source": [
    "# convert X test data to numpy array\n",
    "x_test = np.array(x_test)\n",
    "\n",
    "# Reshape X test data\n",
    "x_test = np.reshape(x_test,(x_test.shape[0],x_test.shape[1],1))"
   ]
  },
  {
   "cell_type": "code",
   "execution_count": 41,
   "metadata": {},
   "outputs": [],
   "source": [
    "# get model predicted price values\n",
    "\n",
    "prediction = model.predict(x_test)\n",
    "\n",
    "# inverse transform to unscale the y values\n",
    "prediction = scaler.inverse_transform(prediction)"
   ]
  },
  {
   "cell_type": "code",
   "execution_count": 22,
   "metadata": {},
   "outputs": [
    {
     "data": {
      "text/plain": [
       "70.0745283939924"
      ]
     },
     "execution_count": 22,
     "metadata": {},
     "output_type": "execute_result"
    }
   ],
   "source": [
    "# evaluate model performance by getting root mean squared error (RMSE)\n",
    "\n",
    "rmse = np.sqrt(np.mean(prediction - y_test)**2)\n",
    "rmse"
   ]
  },
  {
   "cell_type": "code",
   "execution_count": 76,
   "metadata": {},
   "outputs": [],
   "source": [
    "# Plot data using unscaled data\n",
    "\n",
    "train = dataset[:train_data_len] #train data\n",
    "valid = dataset[train_data_len:] #test data\n",
    "\n",
    "# assign predictions to Valid dataset\n",
    "#valid = np.concatenate((valid, prediction), axis=0)"
   ]
  },
  {
   "cell_type": "code",
   "execution_count": 79,
   "metadata": {},
   "outputs": [
    {
     "data": {
      "image/png": "[encoded data removed]",
      "text/plain": [
       "<Figure size 1152x576 with 1 Axes>"
      ]
     },
     "metadata": {
      "needs_background": "light"
     },
     "output_type": "display_data"
    }
   ],
   "source": [
    "# Visualize data (prediction vs actual y)\n",
    "plt.figure(figsize= (16,8))\n",
    "plt.title('Model',fontsize = 18)\n",
    "\n",
    "plt.xlabel('Date',fontsize = 14)\n",
    "plt.ylabel('Close Price USD($)',fontsize = 14)\n",
    "\n",
    "plt.plot(train)\n",
    "plt.plot(valid)\n",
    "plt.plot(prediction)\n",
    "\n",
    "plt.legend(['Train','Valid (Actual)','prediction'], loc = 'lower right')\n",
    "plt.show()"
   ]
  },
  {
   "cell_type": "code",
   "execution_count": 30,
   "metadata": {},
   "outputs": [
    {
     "name": "stdout",
     "output_type": "stream",
     "text": [
      "[[ 127.23375702]\n",
      " [ 134.37609863]\n",
      " [ 145.56542969]\n",
      " [ 153.29946899]\n",
      " [ 158.79418945]\n",
      " [ 162.45643616]\n",
      " [ 165.38165283]\n",
      " [ 167.64527893]\n",
      " [ 169.07807922]\n",
      " [ 170.93119812]\n",
      " [ 172.6468811 ]\n",
      " [ 175.73722839]\n",
      " [ 180.84895325]\n",
      " [ 185.90135193]\n",
      " [ 190.39889526]\n",
      " [ 192.16253662]\n",
      " [ 191.33746338]\n",
      " [ 188.64308167]\n",
      " [ 182.42359924]\n",
      " [ 174.77760315]\n",
      " [ 169.37663269]\n",
      " [ 165.77345276]\n",
      " [ 163.62593079]\n",
      " [ 161.78404236]\n",
      " [ 159.73826599]\n",
      " [ 155.15765381]\n",
      " [ 150.86729431]\n",
      " [ 146.9066925 ]\n",
      " [ 141.52941895]\n",
      " [ 135.67700195]\n",
      " [ 127.46012115]\n",
      " [ 118.59526825]\n",
      " [ 108.55278015]\n",
      " [ 100.89615631]\n",
      " [  95.36096191]\n",
      " [  91.7702713 ]\n",
      " [  91.54831696]\n",
      " [  94.05960083]\n",
      " [  97.43611908]\n",
      " [ 100.53703308]\n",
      " [ 102.83640289]\n",
      " [ 105.07561493]\n",
      " [ 105.87264252]\n",
      " [ 105.10038757]\n",
      " [ 104.30284882]\n",
      " [ 104.56319427]\n",
      " [ 106.13109589]\n",
      " [ 108.2853775 ]\n",
      " [ 111.16160583]\n",
      " [ 116.23020935]\n",
      " [ 123.48773956]\n",
      " [ 131.61500549]\n",
      " [ 139.70649719]\n",
      " [ 147.10284424]\n",
      " [ 153.07670593]\n",
      " [ 155.93719482]\n",
      " [ 158.11946106]\n",
      " [ 158.91281128]\n",
      " [ 159.41911316]\n",
      " [ 161.76080322]\n",
      " [ 163.91595459]\n",
      " [ 166.61010742]\n",
      " [ 168.73144531]\n",
      " [ 168.02670288]\n",
      " [ 167.63204956]\n",
      " [ 167.60951233]\n",
      " [ 168.1758728 ]\n",
      " [ 168.90098572]\n",
      " [ 170.73895264]\n",
      " [ 172.70544434]\n",
      " [ 174.46482849]\n",
      " [ 175.39170837]\n",
      " [ 176.13284302]\n",
      " [ 176.56558228]\n",
      " [ 177.1947937 ]\n",
      " [ 177.68515015]\n",
      " [ 178.25907898]\n",
      " [ 179.1476593 ]\n",
      " [ 179.78739929]\n",
      " [ 180.2817688 ]\n",
      " [ 180.67912292]\n",
      " [ 180.5660553 ]\n",
      " [ 181.03166199]\n",
      " [ 183.53541565]\n",
      " [ 186.32998657]\n",
      " [ 189.00970459]\n",
      " [ 190.79560852]\n",
      " [ 192.52706909]\n",
      " [ 195.86856079]\n",
      " [ 199.38510132]\n",
      " [ 205.03491211]\n",
      " [ 209.62757874]\n",
      " [ 212.079422  ]\n",
      " [ 214.7510376 ]\n",
      " [ 216.94822693]\n",
      " [ 218.91946411]\n",
      " [ 220.88627625]\n",
      " [ 222.5223999 ]\n",
      " [ 223.59841919]\n",
      " [ 224.46697998]\n",
      " [ 223.92333984]\n",
      " [ 223.43569946]\n",
      " [ 222.24719238]\n",
      " [ 222.26615906]\n",
      " [ 224.93988037]\n",
      " [ 229.84371948]\n",
      " [ 237.97697449]\n",
      " [ 251.70141602]\n",
      " [ 267.36621094]\n",
      " [ 281.62921143]\n",
      " [ 294.45715332]\n",
      " [ 309.64129639]\n",
      " [ 322.87030029]\n",
      " [ 334.22555542]\n",
      " [ 344.19677734]\n",
      " [ 350.89898682]\n",
      " [ 355.12713623]\n",
      " [ 361.89016724]\n",
      " [ 366.82458496]\n",
      " [ 371.00021362]\n",
      " [ 371.82647705]\n",
      " [ 367.85708618]\n",
      " [ 365.55990601]\n",
      " [ 362.33737183]\n",
      " [ 359.67828369]\n",
      " [ 357.21368408]\n",
      " [ 353.38143921]\n",
      " [ 350.92687988]\n",
      " [ 349.48916626]\n",
      " [ 348.68621826]\n",
      " [ 348.45431519]\n",
      " [ 347.43069458]\n",
      " [ 345.09197998]\n",
      " [ 340.99673462]\n",
      " [ 341.93811035]\n",
      " [ 347.35943604]\n",
      " [ 355.45739746]\n",
      " [ 369.81011963]\n",
      " [ 387.45825195]\n",
      " [ 404.70227051]\n",
      " [ 423.78103638]\n",
      " [ 443.23965454]\n",
      " [ 459.66375732]\n",
      " [ 473.03079224]\n",
      " [ 487.43157959]\n",
      " [ 503.43731689]\n",
      " [ 517.69683838]\n",
      " [ 538.42767334]\n",
      " [ 556.43609619]\n",
      " [ 566.75732422]\n",
      " [ 565.52154541]\n",
      " [ 560.18487549]\n",
      " [ 539.04162598]\n",
      " [ 517.73406982]\n",
      " [ 499.08328247]\n",
      " [ 483.91940308]\n",
      " [ 479.54367065]\n",
      " [ 485.96780396]\n",
      " [ 496.16140747]\n",
      " [ 504.50134277]\n",
      " [ 514.10546875]\n",
      " [ 524.49597168]\n",
      " [ 530.19854736]\n",
      " [ 525.94152832]\n",
      " [ 518.19659424]\n",
      " [ 512.42468262]\n",
      " [ 510.37561035]\n",
      " [ 510.10702515]\n",
      " [ 512.4052124 ]\n",
      " [ 518.84759521]\n",
      " [ 521.49005127]\n",
      " [ 523.68481445]\n",
      " [ 523.50012207]\n",
      " [ 523.91503906]\n",
      " [ 524.6428833 ]\n",
      " [ 526.73956299]\n",
      " [ 530.63256836]\n",
      " [ 535.7388916 ]\n",
      " [ 543.29241943]\n",
      " [ 549.32067871]\n",
      " [ 552.50012207]\n",
      " [ 552.45233154]\n",
      " [ 549.28869629]\n",
      " [ 544.91607666]\n",
      " [ 540.8190918 ]\n",
      " [ 536.43164062]\n",
      " [ 532.29754639]\n",
      " [ 529.42047119]\n",
      " [ 524.52191162]\n",
      " [ 519.9083252 ]\n",
      " [ 512.29016113]\n",
      " [ 505.94793701]\n",
      " [ 504.60015869]\n",
      " [ 505.50479126]\n",
      " [ 510.2795105 ]\n",
      " [ 515.28448486]\n",
      " [ 518.57617188]\n",
      " [ 518.93621826]\n",
      " [ 518.82879639]\n",
      " [ 517.59289551]\n",
      " [ 515.38360596]\n",
      " [ 512.8270874 ]\n",
      " [ 515.67358398]\n",
      " [ 528.14587402]\n",
      " [ 546.32775879]\n",
      " [ 564.12261963]\n",
      " [ 585.16485596]\n",
      " [ 611.07843018]\n",
      " [ 639.82867432]\n",
      " [ 669.01196289]\n",
      " [ 692.46343994]\n",
      " [ 713.37298584]\n",
      " [ 728.09020996]\n",
      " [ 742.05419922]\n",
      " [ 754.92626953]\n",
      " [ 772.77893066]\n",
      " [ 792.54663086]\n",
      " [ 803.95300293]\n",
      " [ 813.68481445]\n",
      " [ 818.59155273]\n",
      " [ 825.30157471]\n",
      " [ 831.00500488]\n",
      " [ 833.9161377 ]\n",
      " [ 840.4241333 ]\n",
      " [ 854.29595947]\n",
      " [ 863.2310791 ]\n",
      " [ 867.434021  ]\n",
      " [ 869.64031982]\n",
      " [ 873.0199585 ]\n",
      " [ 876.86987305]\n",
      " [ 880.9395752 ]\n",
      " [ 889.34503174]\n",
      " [ 900.82958984]\n",
      " [ 916.68792725]\n",
      " [ 934.10064697]\n",
      " [ 954.03131104]\n",
      " [ 982.88287354]\n",
      " [1023.49487305]\n",
      " [1055.24902344]\n",
      " [1085.93884277]\n",
      " [1113.6932373 ]\n",
      " [1135.80627441]\n",
      " [1150.02880859]\n",
      " [1161.67626953]\n",
      " [1171.55981445]\n",
      " [1178.64685059]\n",
      " [1183.83374023]\n",
      " [1192.67211914]\n",
      " [1202.69116211]\n",
      " [1209.54785156]\n",
      " [1209.89404297]]\n"
     ]
    }
   ],
   "source": [
    "# show the valid & predicted values compared\n",
    "print(valid)"
   ]
  },
  {
   "cell_type": "code",
   "execution_count": 31,
   "metadata": {},
   "outputs": [
    {
     "name": "stdout",
     "output_type": "stream",
     "text": [
      "             Adj Close\n",
      "Date                  \n",
      "2016-02-02   36.556000\n",
      "2016-02-03   34.695999\n",
      "2016-02-04   35.066002\n",
      "2016-02-05   32.520000\n",
      "2016-02-08   29.598000\n",
      "...                ...\n",
      "2021-01-25  880.799988\n",
      "2021-01-26  883.090027\n",
      "2021-01-27  864.159973\n",
      "2021-01-28  835.429993\n",
      "2021-01-29  793.530029\n",
      "\n",
      "[1258 rows x 1 columns]\n"
     ]
    }
   ],
   "source": [
    "# get the stock quote for prediction\n",
    "tsla_quote = pdr.DataReader('TSLA','yahoo')\n",
    "\n",
    "# Create new dataframe \n",
    "new_df = tsla_quote.filter(['Adj Close'])\n",
    "print(new_df)"
   ]
  },
  {
   "cell_type": "code",
   "execution_count": 35,
   "metadata": {},
   "outputs": [
    {
     "name": "stdout",
     "output_type": "stream",
     "text": [
      "[[1200.5266]]\n"
     ]
    }
   ],
   "source": [
    "#get last 60 days closing price values and convert dataframe to array\n",
    "last_60_days = new_df[-60:].values\n",
    "    \n",
    "# scale the data to values between 0 and 1\n",
    "last_60_days_scaled = scaler.transform(last_60_days)\n",
    "    \n",
    "# create empty list\n",
    "X_test = []\n",
    "\n",
    "# Append past 60 days\n",
    "X_test.append(last_60_days_scaled)\n",
    "    \n",
    "# Convert X_test data set to numpy array\n",
    "X_test = np.array(X_test)\n",
    "    \n",
    "# Reshape data\n",
    "X_test = np.reshape(X_test,(X_test.shape[0],X_test.shape[1],1))\n",
    "    \n",
    "# get predicted scaled price\n",
    "pred_price = model.predict(X_test)\n",
    "    \n",
    "# undo scaling of predicted price\n",
    "pred_price = scaler.inverse_transform(pred_price)\n",
    "print(pred_price)"
   ]
  },
  {
   "cell_type": "code",
   "execution_count": 55,
   "metadata": {},
   "outputs": [
    {
     "ename": "ValueError",
     "evalue": "The Quandl API key must be provided either through the api_key variable or through the environmental variable QUANDL_API_KEY.",
     "output_type": "error",
     "traceback": [
      "\u001b[1;31m---------------------------------------------------------------------------\u001b[0m",
      "\u001b[1;31mValueError\u001b[0m                                Traceback (most recent call last)",
      "\u001b[1;32m<ipython-input-55-a1b91a0b3ae5>\u001b[0m in \u001b[0;36m<module>\u001b[1;34m\u001b[0m\n\u001b[0;32m      5\u001b[0m \u001b[0mend\u001b[0m \u001b[1;33m=\u001b[0m \u001b[0mdatetime\u001b[0m\u001b[1;33m(\u001b[0m\u001b[1;36m2021\u001b[0m\u001b[1;33m,\u001b[0m\u001b[1;36m2\u001b[0m\u001b[1;33m,\u001b[0m \u001b[1;36m1\u001b[0m\u001b[1;33m)\u001b[0m\u001b[1;33m\u001b[0m\u001b[1;33m\u001b[0m\u001b[0m\n\u001b[0;32m      6\u001b[0m \u001b[1;33m\u001b[0m\u001b[0m\n\u001b[1;32m----> 7\u001b[1;33m \u001b[0mtsla_quote_2\u001b[0m \u001b[1;33m=\u001b[0m \u001b[0mtsla_quote\u001b[0m \u001b[1;33m=\u001b[0m \u001b[0mpdr\u001b[0m\u001b[1;33m.\u001b[0m\u001b[0mDataReader\u001b[0m\u001b[1;33m(\u001b[0m\u001b[1;34m'TSLA'\u001b[0m\u001b[1;33m,\u001b[0m\u001b[1;34m'quandl'\u001b[0m\u001b[1;33m,\u001b[0m\u001b[0mstart\u001b[0m\u001b[1;33m,\u001b[0m \u001b[0mend\u001b[0m\u001b[1;33m)\u001b[0m\u001b[1;33m\u001b[0m\u001b[1;33m\u001b[0m\u001b[0m\n\u001b[0m",
      "\u001b[1;32m~\\AppData\\Local\\Programs\\Python\\Python38\\lib\\site-packages\\pandas\\util\\_decorators.py\u001b[0m in \u001b[0;36mwrapper\u001b[1;34m(*args, **kwargs)\u001b[0m\n\u001b[0;32m    197\u001b[0m                 \u001b[1;32melse\u001b[0m\u001b[1;33m:\u001b[0m\u001b[1;33m\u001b[0m\u001b[1;33m\u001b[0m\u001b[0m\n\u001b[0;32m    198\u001b[0m                     \u001b[0mkwargs\u001b[0m\u001b[1;33m[\u001b[0m\u001b[0mnew_arg_name\u001b[0m\u001b[1;33m]\u001b[0m \u001b[1;33m=\u001b[0m \u001b[0mnew_arg_value\u001b[0m\u001b[1;33m\u001b[0m\u001b[1;33m\u001b[0m\u001b[0m\n\u001b[1;32m--> 199\u001b[1;33m             \u001b[1;32mreturn\u001b[0m \u001b[0mfunc\u001b[0m\u001b[1;33m(\u001b[0m\u001b[1;33m*\u001b[0m\u001b[0margs\u001b[0m\u001b[1;33m,\u001b[0m \u001b[1;33m**\u001b[0m\u001b[0mkwargs\u001b[0m\u001b[1;33m)\u001b[0m\u001b[1;33m\u001b[0m\u001b[1;33m\u001b[0m\u001b[0m\n\u001b[0m\u001b[0;32m    200\u001b[0m \u001b[1;33m\u001b[0m\u001b[0m\n\u001b[0;32m    201\u001b[0m         \u001b[1;32mreturn\u001b[0m \u001b[0mcast\u001b[0m\u001b[1;33m(\u001b[0m\u001b[0mF\u001b[0m\u001b[1;33m,\u001b[0m \u001b[0mwrapper\u001b[0m\u001b[1;33m)\u001b[0m\u001b[1;33m\u001b[0m\u001b[1;33m\u001b[0m\u001b[0m\n",
      "\u001b[1;32m~\\AppData\\Local\\Programs\\Python\\Python38\\lib\\site-packages\\pandas_datareader\\data.py\u001b[0m in \u001b[0;36mDataReader\u001b[1;34m(name, data_source, start, end, retry_count, pause, session, api_key)\u001b[0m\n\u001b[0;32m    498\u001b[0m \u001b[1;33m\u001b[0m\u001b[0m\n\u001b[0;32m    499\u001b[0m     \u001b[1;32melif\u001b[0m \u001b[0mdata_source\u001b[0m \u001b[1;33m==\u001b[0m \u001b[1;34m\"quandl\"\u001b[0m\u001b[1;33m:\u001b[0m\u001b[1;33m\u001b[0m\u001b[1;33m\u001b[0m\u001b[0m\n\u001b[1;32m--> 500\u001b[1;33m         return QuandlReader(\n\u001b[0m\u001b[0;32m    501\u001b[0m             \u001b[0msymbols\u001b[0m\u001b[1;33m=\u001b[0m\u001b[0mname\u001b[0m\u001b[1;33m,\u001b[0m\u001b[1;33m\u001b[0m\u001b[1;33m\u001b[0m\u001b[0m\n\u001b[0;32m    502\u001b[0m             \u001b[0mstart\u001b[0m\u001b[1;33m=\u001b[0m\u001b[0mstart\u001b[0m\u001b[1;33m,\u001b[0m\u001b[1;33m\u001b[0m\u001b[1;33m\u001b[0m\u001b[0m\n",
      "\u001b[1;32m~\\AppData\\Local\\Programs\\Python\\Python38\\lib\\site-packages\\pandas_datareader\\quandl.py\u001b[0m in \u001b[0;36m__init__\u001b[1;34m(self, symbols, start, end, retry_count, pause, session, chunksize, api_key)\u001b[0m\n\u001b[0;32m     63\u001b[0m             \u001b[0mapi_key\u001b[0m \u001b[1;33m=\u001b[0m \u001b[0mos\u001b[0m\u001b[1;33m.\u001b[0m\u001b[0mgetenv\u001b[0m\u001b[1;33m(\u001b[0m\u001b[1;34m\"QUANDL_API_KEY\"\u001b[0m\u001b[1;33m)\u001b[0m\u001b[1;33m\u001b[0m\u001b[1;33m\u001b[0m\u001b[0m\n\u001b[0;32m     64\u001b[0m         \u001b[1;32mif\u001b[0m \u001b[1;32mnot\u001b[0m \u001b[0mapi_key\u001b[0m \u001b[1;32mor\u001b[0m \u001b[1;32mnot\u001b[0m \u001b[0misinstance\u001b[0m\u001b[1;33m(\u001b[0m\u001b[0mapi_key\u001b[0m\u001b[1;33m,\u001b[0m \u001b[0mstr\u001b[0m\u001b[1;33m)\u001b[0m\u001b[1;33m:\u001b[0m\u001b[1;33m\u001b[0m\u001b[1;33m\u001b[0m\u001b[0m\n\u001b[1;32m---> 65\u001b[1;33m             raise ValueError(\n\u001b[0m\u001b[0;32m     66\u001b[0m                 \u001b[1;34m\"The Quandl API key must be provided either \"\u001b[0m\u001b[1;33m\u001b[0m\u001b[1;33m\u001b[0m\u001b[0m\n\u001b[0;32m     67\u001b[0m                 \u001b[1;34m\"through the api_key variable or through the \"\u001b[0m\u001b[1;33m\u001b[0m\u001b[1;33m\u001b[0m\u001b[0m\n",
      "\u001b[1;31mValueError\u001b[0m: The Quandl API key must be provided either through the api_key variable or through the environmental variable QUANDL_API_KEY."
     ]
    }
   ],
   "source": [
    "# get the actual quote on next day\n",
    "\n",
    "start = datetime(2021,2, 1)\n",
    "\n",
    "end = datetime(2021,2, 1)\n",
    "\n",
    "tsla_quote_2 = tsla_quote = pdr.DataReader('TSLA','quandl',start, end)"
   ]
  },
  {
   "cell_type": "code",
   "execution_count": null,
   "metadata": {},
   "outputs": [],
   "source": []
  },
  {
   "cell_type": "code",
   "execution_count": null,
   "metadata": {},
   "outputs": [],
   "source": []
  },
  {
   "cell_type": "code",
   "execution_count": null,
   "metadata": {},
   "outputs": [],
   "source": []
  },
  {
   "cell_type": "code",
   "execution_count": null,
   "metadata": {},
   "outputs": [],
   "source": []
  },
  {
   "cell_type": "code",
   "execution_count": null,
   "metadata": {},
   "outputs": [],
   "source": []
  },
  {
   "cell_type": "code",
   "execution_count": null,
   "metadata": {},
   "outputs": [],
   "source": []
  },
  {
   "cell_type": "code",
   "execution_count": null,
   "metadata": {},
   "outputs": [],
   "source": []
  },
  {
   "cell_type": "code",
   "execution_count": null,
   "metadata": {},
   "outputs": [],
   "source": []
  },
  {
   "cell_type": "code",
   "execution_count": null,
   "metadata": {},
   "outputs": [],
   "source": []
  },
  {
   "cell_type": "code",
   "execution_count": null,
   "metadata": {},
   "outputs": [],
   "source": []
  },
  {
   "cell_type": "code",
   "execution_count": null,
   "metadata": {},
   "outputs": [],
   "source": []
  },
  {
   "cell_type": "code",
   "execution_count": null,
   "metadata": {},
   "outputs": [],
   "source": []
  },
  {
   "cell_type": "code",
   "execution_count": null,
   "metadata": {},
   "outputs": [],
   "source": []
  },
  {
   "cell_type": "code",
   "execution_count": null,
   "metadata": {},
   "outputs": [],
   "source": []
  },
  {
   "cell_type": "code",
   "execution_count": null,
   "metadata": {},
   "outputs": [],
   "source": []
  },
  {
   "cell_type": "code",
   "execution_count": null,
   "metadata": {},
   "outputs": [],
   "source": []
  },
  {
   "cell_type": "code",
   "execution_count": null,
   "metadata": {},
   "outputs": [],
   "source": []
  },
  {
   "cell_type": "code",
   "execution_count": null,
   "metadata": {},
   "outputs": [],
   "source": []
  },
  {
   "cell_type": "code",
   "execution_count": null,
   "metadata": {},
   "outputs": [],
   "source": []
  }
 ],
 "metadata": {
  "kernelspec": {
   "display_name": "Python 3.8.1 64-bit",
   "language": "python",
   "name": "python38164bit2c1687f2b73645c4a6a3d2d9ac2c947f"
  },
  "language_info": {
   "codemirror_mode": {
    "name": "ipython",
    "version": 3
   },
   "file_extension": ".py",
   "mimetype": "text/x-python",
   "name": "python",
   "nbconvert_exporter": "python",
   "pygments_lexer": "ipython3",
   "version": "3.8.5"
  }
 },
 "nbformat": 4,
 "nbformat_minor": 4
}
